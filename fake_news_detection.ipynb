{
 "cells": [
  {
   "cell_type": "markdown",
   "metadata": {},
   "source": [
    "### Detecção de Fake News em Língua Portuguesa Combinando Redes Neurais Convolucionais e Algoritmos de Aprendizagem de Máquina"
   ]
  },
  {
   "cell_type": "markdown",
   "metadata": {},
   "source": [
    "Proposta para a análise de notícias em Português e a detecção de fake news, utilizando Aprendizagem de Máquina e Redes Neurais Convolucionais. \n",
    "\n",
    "O dataset a ser utilizado é a base de dados Fake.Br, que foi construída por pesquisadores da Universidade de São Paulo (USP) e apresenta 7.200 artigos de notícias em português. O estudo realizado concentrou-se em analisar tanto os textos, como também os seus respectivos metadados."
   ]
  },
  {
   "cell_type": "code",
   "execution_count": 1860,
   "metadata": {},
   "outputs": [],
   "source": [
    "import numpy as np\n",
    "import pandas as pd\n",
    "import tensorflow as tf\n",
    "import matplotlib.pyplot as plt\n",
    "import os\n",
    "import git\n",
    "import seaborn as sns\n",
    "import sklearn.metrics as metrics\n",
    "\n",
    "import requests\n",
    "from zipfile import ZipFile\n",
    "%matplotlib inline\n",
    "\n",
    "from sklearn.model_selection import train_test_split\n",
    "from sklearn.preprocessing import LabelBinarizer, MinMaxScaler\n",
    "from sklearn.svm import SVC\n",
    "from sklearn.neural_network import MLPClassifier\n",
    "from sklearn.naive_bayes import GaussianNB\n",
    "from sklearn.metrics import confusion_matrix, classification_report, accuracy_score\n",
    "\n",
    "from tensorflow.keras.models import Sequential\n",
    "from tensorflow.keras.layers import Dense, Flatten, Embedding, Dropout, Masking\n",
    "from tensorflow.keras.layers import Conv1D, MaxPooling1D, LSTM\n",
    "from tensorflow.keras.optimizers import Adam\n",
    "from tensorflow.keras.callbacks import EarlyStopping\n",
    "\n",
    "from scipy.stats import zscore\n",
    "from gensim.models import KeyedVectors\n",
    "from tqdm.notebook import tqdm\n",
    "from glob import glob\n",
    "from nlp_utils import extract_data, preprocessing, word_vec_matrix, word_count"
   ]
  },
  {
   "cell_type": "code",
   "execution_count": 2,
   "metadata": {},
   "outputs": [
    {
     "name": "stdout",
     "output_type": "stream",
     "text": [
      "GPU disponível: NVIDIA GeForce RTX 3060\n"
     ]
    }
   ],
   "source": [
    "# Verifica a existência de GPUs\n",
    "gpu = tf.config.list_physical_devices('GPU')\n",
    "if gpu:\n",
    "    # Mostra informações sobre a GPU\n",
    "    name = tf.config.experimental.get_device_details(gpu[0])['device_name']\n",
    "    print(\"GPU disponível:\", name)\n",
    "else:\n",
    "    print(\"GPU não está disponível\")"
   ]
  },
  {
   "cell_type": "code",
   "execution_count": 3,
   "metadata": {},
   "outputs": [],
   "source": [
    "repo_url = 'https://github.com/roneysco/Fake.br-Corpus.git'\n",
    "\n",
    "if not os.path.exists('fake_br'):\n",
    "    repo = git.Repo.clone_from(repo_url, 'fake_br')"
   ]
  },
  {
   "cell_type": "code",
   "execution_count": 4,
   "metadata": {},
   "outputs": [],
   "source": [
    "folder = r'fake_br/full_texts/'"
   ]
  },
  {
   "cell_type": "code",
   "execution_count": 5,
   "metadata": {},
   "outputs": [
    {
     "data": {
      "application/vnd.jupyter.widget-view+json": {
       "model_id": "de536ba074a94072a24b9dd320e91f69",
       "version_major": 2,
       "version_minor": 0
      },
      "text/plain": [
       "  0%|          | 0/3600 [00:00<?, ?it/s]"
      ]
     },
     "metadata": {},
     "output_type": "display_data"
    },
    {
     "data": {
      "application/vnd.jupyter.widget-view+json": {
       "model_id": "35ee753a9ad84daab60509d12d2cf969",
       "version_major": 2,
       "version_minor": 0
      },
      "text/plain": [
       "  0%|          | 0/3600 [00:00<?, ?it/s]"
      ]
     },
     "metadata": {},
     "output_type": "display_data"
    }
   ],
   "source": [
    "fake_news = extract_data(folder, 'fake')\n",
    "true_news = extract_data(folder, 'true')\n",
    "fake_br = np.array(fake_news + true_news)"
   ]
  },
  {
   "cell_type": "markdown",
   "metadata": {},
   "source": [
    "### Pré-processamento do texto"
   ]
  },
  {
   "cell_type": "markdown",
   "metadata": {},
   "source": [
    "Nesta etapa, é realizada a padronização do texto, remoção de stopwords e eliminação de ruídos e caracteres estranhos. Este processo é importante para garantir a qualidade dos dados para o treinamento."
   ]
  },
  {
   "cell_type": "code",
   "execution_count": 6,
   "metadata": {},
   "outputs": [
    {
     "data": {
      "application/vnd.jupyter.widget-view+json": {
       "model_id": "a2071e0f011d4ff68ca2708fe7cdea3f",
       "version_major": 2,
       "version_minor": 0
      },
      "text/plain": [
       "  0%|          | 0/7200 [00:00<?, ?it/s]"
      ]
     },
     "metadata": {},
     "output_type": "display_data"
    }
   ],
   "source": [
    "news = preprocessing(fake_br[:, 0])\n",
    "y = fake_br[:, 1]"
   ]
  },
  {
   "cell_type": "code",
   "execution_count": 7,
   "metadata": {},
   "outputs": [
    {
     "data": {
      "application/vnd.jupyter.widget-view+json": {
       "model_id": "ff24711409c543108473ea9a0729357a",
       "version_major": 2,
       "version_minor": 0
      },
      "text/plain": [
       "  0%|          | 0/3600 [00:00<?, ?it/s]"
      ]
     },
     "metadata": {},
     "output_type": "display_data"
    },
    {
     "data": {
      "application/vnd.jupyter.widget-view+json": {
       "model_id": "0651cacdcf584b909c4ffed849afd8a6",
       "version_major": 2,
       "version_minor": 0
      },
      "text/plain": [
       "  0%|          | 0/3600 [00:00<?, ?it/s]"
      ]
     },
     "metadata": {},
     "output_type": "display_data"
    },
    {
     "data": {
      "application/vnd.jupyter.widget-view+json": {
       "model_id": "392939cb1b7a4c1086cc1f2c9a0743c3",
       "version_major": 2,
       "version_minor": 0
      },
      "text/plain": [
       "  0%|          | 0/7200 [00:00<?, ?it/s]"
      ]
     },
     "metadata": {},
     "output_type": "display_data"
    }
   ],
   "source": [
    "palavras_fake = word_count(news[:len(news) // 2])\n",
    "palavras_true = word_count(news[len(news) // 2:])\n",
    "palavras_geral = word_count(news)"
   ]
  },
  {
   "cell_type": "code",
   "execution_count": 8,
   "metadata": {},
   "outputs": [],
   "source": [
    "# Removendo outliers com Z-Score\n",
    "limite_zscore = 2  # Defina um limite adequado\n",
    "\n",
    "def calcular_metricas(palavras):\n",
    "    palavras_sem_outliers = palavras[np.abs(zscore(palavras)) < limite_zscore]\n",
    "    media = np.mean(palavras_sem_outliers)\n",
    "    mediana = np.median(palavras_sem_outliers)\n",
    "    desvio_padrao = np.std(palavras_sem_outliers)\n",
    "    _min = palavras.min().astype(int)\n",
    "    _max = palavras.max().astype(int)\n",
    "    return media, mediana, desvio_padrao, _min, _max\n",
    "\n",
    "media_palavras_fake, mediana_palavras_fake, desvio_palavras_fake, min_fake, max_fake = calcular_metricas(palavras_fake)\n",
    "media_palavras_true, mediana_palavras_true, desvio_palavras_true, min_true, max_true = calcular_metricas(palavras_true)\n",
    "media_palavras_geral, mediana_palavras_geral, desvio_palavras_geral, min_geral, max_geral = calcular_metricas(palavras_geral)\n"
   ]
  },
  {
   "cell_type": "code",
   "execution_count": 9,
   "metadata": {},
   "outputs": [
    {
     "data": {
      "text/html": [
       "<style type=\"text/css\">\n",
       "</style>\n",
       "<table id=\"T_4b555\">\n",
       "  <thead>\n",
       "    <tr>\n",
       "      <th id=\"T_4b555_level0_col0\" class=\"col_heading level0 col0\" >Métrica</th>\n",
       "      <th id=\"T_4b555_level0_col1\" class=\"col_heading level0 col1\" >Fake News</th>\n",
       "      <th id=\"T_4b555_level0_col2\" class=\"col_heading level0 col2\" >Verdadeiras</th>\n",
       "      <th id=\"T_4b555_level0_col3\" class=\"col_heading level0 col3\" >Geral</th>\n",
       "    </tr>\n",
       "  </thead>\n",
       "  <tbody>\n",
       "    <tr>\n",
       "      <td id=\"T_4b555_row0_col0\" class=\"data row0 col0\" >Média</td>\n",
       "      <td id=\"T_4b555_row0_col1\" class=\"data row0 col1\" >96.190956</td>\n",
       "      <td id=\"T_4b555_row0_col2\" class=\"data row0 col2\" >568.255178</td>\n",
       "      <td id=\"T_4b555_row0_col3\" class=\"data row0 col3\" >302.152810</td>\n",
       "    </tr>\n",
       "    <tr>\n",
       "      <td id=\"T_4b555_row1_col0\" class=\"data row1 col0\" >Mediana</td>\n",
       "      <td id=\"T_4b555_row1_col1\" class=\"data row1 col1\" >88.000000</td>\n",
       "      <td id=\"T_4b555_row1_col2\" class=\"data row1 col2\" >502.000000</td>\n",
       "      <td id=\"T_4b555_row1_col3\" class=\"data row1 col3\" >180.000000</td>\n",
       "    </tr>\n",
       "    <tr>\n",
       "      <td id=\"T_4b555_row2_col0\" class=\"data row2 col0\" >Desvio padrão</td>\n",
       "      <td id=\"T_4b555_row2_col1\" class=\"data row2 col1\" >44.385845</td>\n",
       "      <td id=\"T_4b555_row2_col2\" class=\"data row2 col2\" >287.155406</td>\n",
       "      <td id=\"T_4b555_row2_col3\" class=\"data row2 col3\" >269.961893</td>\n",
       "    </tr>\n",
       "    <tr>\n",
       "      <td id=\"T_4b555_row3_col0\" class=\"data row3 col0\" >Mínimo</td>\n",
       "      <td id=\"T_4b555_row3_col1\" class=\"data row3 col1\" >5.000000</td>\n",
       "      <td id=\"T_4b555_row3_col2\" class=\"data row3 col2\" >14.000000</td>\n",
       "      <td id=\"T_4b555_row3_col3\" class=\"data row3 col3\" >5.000000</td>\n",
       "    </tr>\n",
       "    <tr>\n",
       "      <td id=\"T_4b555_row4_col0\" class=\"data row4 col0\" >Máximo</td>\n",
       "      <td id=\"T_4b555_row4_col1\" class=\"data row4 col1\" >1155.000000</td>\n",
       "      <td id=\"T_4b555_row4_col2\" class=\"data row4 col2\" >4119.000000</td>\n",
       "      <td id=\"T_4b555_row4_col3\" class=\"data row4 col3\" >4119.000000</td>\n",
       "    </tr>\n",
       "  </tbody>\n",
       "</table>\n"
      ],
      "text/plain": [
       "<pandas.io.formats.style.Styler at 0x17680083ee0>"
      ]
     },
     "metadata": {},
     "output_type": "display_data"
    }
   ],
   "source": [
    "data = {\n",
    "    'Métrica': ['Média', 'Mediana', 'Desvio padrão', 'Mínimo', 'Máximo'],\n",
    "    'Fake News': [media_palavras_fake, mediana_palavras_fake, desvio_palavras_fake, min_fake, max_fake],\n",
    "    'Verdadeiras': [media_palavras_true, mediana_palavras_true, desvio_palavras_true, min_true, max_true],\n",
    "    'Geral': [media_palavras_geral, mediana_palavras_geral, desvio_palavras_geral, min_geral, max_geral]\n",
    "}\n",
    "\n",
    "df = pd.DataFrame(data)\n",
    "\n",
    "# Exibir o DataFrame formatado sem os números de linha\n",
    "display(df.style.hide())"
   ]
  },
  {
   "cell_type": "markdown",
   "metadata": {},
   "source": [
    "### Transformação"
   ]
  },
  {
   "cell_type": "markdown",
   "metadata": {},
   "source": [
    "Para que sejam processados pelos algoritmos de AM, é necessário que antes os textos sejam convertidos do formato textual para uma representação numérica. Nesta etapa, os textos foram submetidos a um processo de vetorização, que consiste em converter cada termo contido no texto  m um valor numérico. Desta forma, cada texto é representado por um vetor contendo todos os valores numéricos que representam cada um dos termos contidos nele."
   ]
  },
  {
   "cell_type": "code",
   "execution_count": 10,
   "metadata": {},
   "outputs": [],
   "source": [
    "tokenizer = tf.keras.preprocessing.text.Tokenizer()\n",
    "tokenizer.fit_on_texts(news)\n",
    "encoded_texts = tokenizer.texts_to_sequences(news)\n",
    "vocab_size = len(tokenizer.word_index) + 1\n",
    "max_length = int((media_palavras_geral + 2 * desvio_palavras_geral) / 2)"
   ]
  },
  {
   "cell_type": "code",
   "execution_count": 11,
   "metadata": {},
   "outputs": [
    {
     "data": {
      "text/plain": [
       "(7200, 421)"
      ]
     },
     "execution_count": 11,
     "metadata": {},
     "output_type": "execute_result"
    }
   ],
   "source": [
    "X = tf.keras.preprocessing.sequence.pad_sequences(encoded_texts, maxlen = max_length, padding = 'post')\n",
    "X.shape"
   ]
  },
  {
   "cell_type": "markdown",
   "metadata": {},
   "source": [
    "Com os textos vetorizados, foi utilizada uma técnica de Processamento de Linguagem Natural (PLN) denominada word embedding, que consiste em converter os textos em vetores multidimensionais, de forma a manter os seus valores tanto sintáticos quanto morfológicos. No word embedding, palavras que possuem sentidos semelhantes são representadas de formas similares. Para a construção de um word embedding, é possível realizar o treinamento de um modelo a partir de um conjunto de dados. Outra possibilidade é a utilização de um word embedding pré-treinado. Neste trabalho, foi utilizado um modelo pré-treinado pelo algoritmo GloVe. Desta forma, os textos são transformados em matrizes, onde cada linha da matriz corresponde à representação vetorial dos termos contidos no texto original, conforme definido no word embedding. O word embedding pré-treinado utilizado está disponível em http://nilc.icmc.usp.br/nilc/index.php/repositorio-de-word-embeddings-do-nilc."
   ]
  },
  {
   "cell_type": "code",
   "execution_count": 12,
   "metadata": {},
   "outputs": [
    {
     "name": "stdout",
     "output_type": "stream",
     "text": [
      "O arquivo glove_s100.txt já existe na pasta atual.\n"
     ]
    }
   ],
   "source": [
    "# Nome do arquivo ZIP\n",
    "zip_file_name = \"glove_s100.zip\"\n",
    "\n",
    "# Nome do arquivo a ser extraído\n",
    "glove_path = \"glove_s100.txt\"\n",
    "\n",
    "# URL do arquivo ZIP\n",
    "url = \"http://143.107.183.175:22980/download.php?file=embeddings/glove/glove_s100.zip\"\n",
    "\n",
    "# Verifique se o arquivo a ser extraído já existe na pasta atual\n",
    "if os.path.exists(glove_path):\n",
    "    print(f\"O arquivo {glove_path} já existe na pasta atual.\")\n",
    "else:\n",
    "    # Verifique se o arquivo ZIP já existe na pasta atual ou faça o download\n",
    "    if not os.path.exists(zip_file_name):\n",
    "        response = requests.get(url)\n",
    "        if response.status_code == 200:\n",
    "            with open(zip_file_name, \"wb\") as f:\n",
    "                f.write(response.content)\n",
    "            print(\"Download do arquivo ZIP concluído com sucesso.\")\n",
    "        else:\n",
    "            print(f\"Erro ao baixar o arquivo ZIP. Código de status: {response.status_code}\")\n",
    "    \n",
    "    # Extraia o conteúdo do arquivo ZIP, se o arquivo ZIP existir\n",
    "    if os.path.exists(zip_file_name):\n",
    "        with ZipFile(zip_file_name, 'r') as zip_ref:\n",
    "            zip_ref.extract(glove_path)\n",
    "            print(f\"Conteúdo extraído para {glove_path}\")\n",
    "        \n",
    "        # Apague o arquivo ZIP após a extração\n",
    "        os.remove(zip_file_name)\n",
    "        print(f\"Arquivo ZIP {zip_file_name} removido.\")\n"
   ]
  },
  {
   "cell_type": "code",
   "execution_count": 13,
   "metadata": {},
   "outputs": [],
   "source": [
    "if 'glove' not in globals(): \n",
    "    glove = KeyedVectors.load_word2vec_format(glove_path, encoding = 'utf-8')"
   ]
  },
  {
   "cell_type": "code",
   "execution_count": 14,
   "metadata": {},
   "outputs": [],
   "source": [
    "word_vector_matrix = word_vec_matrix(glove, tokenizer, vocab_size, 100, show_missing_words=False)"
   ]
  },
  {
   "cell_type": "markdown",
   "metadata": {},
   "source": [
    "### Treinamento da CNN"
   ]
  },
  {
   "cell_type": "markdown",
   "metadata": {},
   "source": [
    "Inicialmente, o dataset foi dividido para treino, teste e validação. Para o processamento dos textos, foi implementada uma Rede Neural Convolucional (CNN), que é um algoritmo de Aprendizado Profundo (Deep Learning)."
   ]
  },
  {
   "cell_type": "code",
   "execution_count": 15,
   "metadata": {},
   "outputs": [],
   "source": [
    "X_train, X_test, y_train, y_test = train_test_split(X, y, random_state = 42, test_size = 0.2, stratify = y)"
   ]
  },
  {
   "cell_type": "code",
   "execution_count": 16,
   "metadata": {},
   "outputs": [],
   "source": [
    "lb = LabelBinarizer()\n",
    "y_train = lb.fit_transform(y_train)\n",
    "y_test = lb.transform(y_test)\n",
    "y_train, y_test = y_train.reshape(-1), y_test.reshape(-1)"
   ]
  },
  {
   "cell_type": "code",
   "execution_count": 17,
   "metadata": {},
   "outputs": [],
   "source": [
    "X_train, X_val, y_train, y_val = train_test_split(X_train, y_train, random_state = 42, test_size = 0.25, stratify = y_train)"
   ]
  },
  {
   "cell_type": "code",
   "execution_count": 18,
   "metadata": {},
   "outputs": [
    {
     "data": {
      "text/plain": [
       "((1440, 421), (1440, 421), (1440, 421))"
      ]
     },
     "execution_count": 18,
     "metadata": {},
     "output_type": "execute_result"
    }
   ],
   "source": [
    "X_test.shape, X_test.shape, X_val.shape"
   ]
  },
  {
   "cell_type": "markdown",
   "metadata": {},
   "source": [
    "O CNN foi construído com a utilização de classes das bibliotecas Keras e Tensorflow, conforme descrito a seguir:\n",
    "\n",
    "- Camada de Embedding: é configurada a aplicação do word embedding. Para isso, utilizou-se o modelo pré-treinado, com 100 dimensões.\n",
    "\n",
    "- Camada de Masking: responsável por ocultar (mascarar) determinados valores nos dados de entrada, tornando-os invisíveis para a rede neural durante o treinamento. Isso pode ser útil quando se lida com sequências de comprimentos variáveis, onde alguns elementos podem ser preenchidos com valores especiais, como zeros, para igualar os tamanhos. A Camada de Masking ajuda a rede a ignorar esses valores de preenchimento, permitindo que se concentre apenas nos dados relevantes. Isso é especialmente importante onde as sequências de texto podem ter comprimentos diferentes.\n",
    "\n",
    "- Camada Convolucional: são aplicados filtros sobre os dados de entrada, a fim de extrair as características dos textos. O filtro, ou kernel, é uma matriz com quantidade menor de linhas em relação à matriz de entrada, mas com a mesma quantidade de colunas, para que seja capaz de processar todos os valores das linhas da matriz de uma vez. Desta forma, o filtro funciona como uma janela deslizante, deslocando-se de cima para baixo pela matriz. O filtro contém inicialmente valores aleatórios, que são atualizados a cada iteração, a fim de extrair de forma cada vez melhor as características presentes no texto. O vetor resultante do processo de aplicação de um filtro é denominado vetor de características.\n",
    "\n",
    "- Camada de Max-pooling: o processo de max-pooling, consiste em selecionar o maior valor de cada vetor de características. Desta forma, é possível identificar as características mais relevantes de um texto.\n",
    "\n",
    "- Camada de Flatten: o processo de max-pooling apresenta como saída vários valores, correspondentes ao número de filtros utilizados. Por este motivo, é necessário agrupá-los novamente na camada de Flatten, onde os valores são concatenados, formando um novo vetor.\n",
    "\n",
    "- Camada ReLU: o vetor resultante da camada anterior é processado por uma camada totalmente conectada, com função de ativação ReLU.\n",
    "\n",
    "- Camada Sigmoidal: ao final da rede neural, por tratar-se de um problema de classificação binária, utiliza-se a função de ativação sigmoide."
   ]
  },
  {
   "cell_type": "code",
   "execution_count": 2018,
   "metadata": {},
   "outputs": [],
   "source": [
    "def create_model(filters, kernel_size, hidden_dims, max_length, wv_matrix):\n",
    "    vec_size = 100\n",
    "\n",
    "    model = Sequential()\n",
    "\n",
    "    model.add(Embedding(vocab_size, \n",
    "                        vec_size, \n",
    "                        input_length = max_length, \n",
    "                        weights = wv_matrix, # [word_vector_matrix]\n",
    "                        trainable = False))\n",
    "    \n",
    "    model.add(Masking(mask_value = 0))\n",
    "\n",
    "    model.add(Conv1D(filters, \n",
    "                     kernel_size, \n",
    "                     padding = 'valid',\n",
    "                     activation = 'relu'))\n",
    "    model.add(Dropout(0.2))\n",
    "    \n",
    "    model.add(MaxPooling1D())\n",
    "    \n",
    "    model.add(Flatten())\n",
    "    model.add(Dense(hidden_dims, activation = 'relu'))\n",
    "    model.add(Dropout(0.2))\n",
    "    model.add(Dense(1, activation = 'sigmoid'))\n",
    "\n",
    "    model.compile(optimizer=Adam(learning_rate = 0.0001), \n",
    "                  loss = 'binary_crossentropy', \n",
    "                  metrics = ['accuracy'])\n",
    "    \n",
    "    return model"
   ]
  },
  {
   "cell_type": "code",
   "execution_count": 2019,
   "metadata": {},
   "outputs": [],
   "source": [
    "filters = 10\n",
    "kernel_size = 5\n",
    "hidden_dims = 128\n",
    "batch = 64\n",
    "epochs = 15"
   ]
  },
  {
   "cell_type": "code",
   "execution_count": 2020,
   "metadata": {},
   "outputs": [
    {
     "name": "stdout",
     "output_type": "stream",
     "text": [
      "Model: \"sequential_107\"\n",
      "_________________________________________________________________\n",
      " Layer (type)                Output Shape              Param #   \n",
      "=================================================================\n",
      " embedding_64 (Embedding)    (None, 421, 100)          8263300   \n",
      "                                                                 \n",
      " masking_64 (Masking)        (None, 421, 100)          0         \n",
      "                                                                 \n",
      " conv1d_63 (Conv1D)          (None, 417, 10)           5010      \n",
      "                                                                 \n",
      " dropout_188 (Dropout)       (None, 417, 10)           0         \n",
      "                                                                 \n",
      " max_pooling1d_61 (MaxPoolin  (None, 208, 10)          0         \n",
      " g1D)                                                            \n",
      "                                                                 \n",
      " flatten_58 (Flatten)        (None, 2080)              0         \n",
      "                                                                 \n",
      " dense_282 (Dense)           (None, 128)               266368    \n",
      "                                                                 \n",
      " dropout_189 (Dropout)       (None, 128)               0         \n",
      "                                                                 \n",
      " dense_283 (Dense)           (None, 1)                 129       \n",
      "                                                                 \n",
      "=================================================================\n",
      "Total params: 8,534,807\n",
      "Trainable params: 271,507\n",
      "Non-trainable params: 8,263,300\n",
      "_________________________________________________________________\n"
     ]
    }
   ],
   "source": [
    "es = EarlyStopping(monitor='val_loss', mode = 'min', verbose = 1, patience = 10)\n",
    "model = create_model(filters, kernel_size, hidden_dims, max_length, [word_vector_matrix])\n",
    "model.summary()"
   ]
  },
  {
   "cell_type": "code",
   "execution_count": 2021,
   "metadata": {},
   "outputs": [
    {
     "name": "stdout",
     "output_type": "stream",
     "text": [
      "Epoch 1/15\n",
      "68/68 [==============================] - 1s 8ms/step - loss: 0.2474 - accuracy: 0.9181 - val_loss: 0.1745 - val_accuracy: 0.9410\n",
      "Epoch 2/15\n",
      "68/68 [==============================] - 0s 5ms/step - loss: 0.1847 - accuracy: 0.9394 - val_loss: 0.1666 - val_accuracy: 0.9444\n",
      "Epoch 3/15\n",
      "68/68 [==============================] - 0s 4ms/step - loss: 0.1755 - accuracy: 0.9384 - val_loss: 0.1596 - val_accuracy: 0.9444\n",
      "Epoch 4/15\n",
      "68/68 [==============================] - 0s 5ms/step - loss: 0.1627 - accuracy: 0.9426 - val_loss: 0.1549 - val_accuracy: 0.9451\n",
      "Epoch 5/15\n",
      "68/68 [==============================] - 0s 5ms/step - loss: 0.1447 - accuracy: 0.9512 - val_loss: 0.1550 - val_accuracy: 0.9486\n",
      "Epoch 6/15\n",
      "68/68 [==============================] - 0s 4ms/step - loss: 0.1334 - accuracy: 0.9532 - val_loss: 0.1507 - val_accuracy: 0.9486\n",
      "Epoch 7/15\n",
      "68/68 [==============================] - 0s 5ms/step - loss: 0.1182 - accuracy: 0.9593 - val_loss: 0.1446 - val_accuracy: 0.9465\n",
      "Epoch 8/15\n",
      "68/68 [==============================] - 0s 4ms/step - loss: 0.1111 - accuracy: 0.9593 - val_loss: 0.1410 - val_accuracy: 0.9472\n",
      "Epoch 9/15\n",
      "68/68 [==============================] - 0s 5ms/step - loss: 0.1023 - accuracy: 0.9650 - val_loss: 0.1416 - val_accuracy: 0.9493\n",
      "Epoch 10/15\n",
      "68/68 [==============================] - 0s 5ms/step - loss: 0.0896 - accuracy: 0.9697 - val_loss: 0.1353 - val_accuracy: 0.9514\n",
      "Epoch 11/15\n",
      "68/68 [==============================] - 0s 5ms/step - loss: 0.0813 - accuracy: 0.9718 - val_loss: 0.1312 - val_accuracy: 0.9514\n",
      "Epoch 12/15\n",
      "68/68 [==============================] - 0s 5ms/step - loss: 0.0754 - accuracy: 0.9748 - val_loss: 0.1290 - val_accuracy: 0.9528\n",
      "Epoch 13/15\n",
      "68/68 [==============================] - 0s 5ms/step - loss: 0.0677 - accuracy: 0.9792 - val_loss: 0.1293 - val_accuracy: 0.9521\n",
      "Epoch 14/15\n",
      "68/68 [==============================] - 0s 5ms/step - loss: 0.0645 - accuracy: 0.9792 - val_loss: 0.1295 - val_accuracy: 0.9521\n",
      "Epoch 15/15\n",
      "68/68 [==============================] - 0s 5ms/step - loss: 0.0593 - accuracy: 0.9810 - val_loss: 0.1302 - val_accuracy: 0.9549\n",
      "45/45 [==============================] - 0s 2ms/step - loss: 0.1124 - accuracy: 0.9611\n"
     ]
    }
   ],
   "source": [
    "hist_adam = model.fit(X_train, y_train,\n",
    "                      batch_size = batch,\n",
    "                      epochs = epochs, \n",
    "                      validation_data = (X_val, y_val),\n",
    "                      callbacks = [es])\n",
    "\n",
    "test_acc = model.evaluate(X_test,  y_test)"
   ]
  },
  {
   "cell_type": "code",
   "execution_count": 2022,
   "metadata": {},
   "outputs": [
    {
     "name": "stdout",
     "output_type": "stream",
     "text": [
      "45/45 [==============================] - 0s 2ms/step\n",
      "45/45 [==============================] - 0s 1ms/step\n"
     ]
    }
   ],
   "source": [
    "pred = (model.predict(X_test) > 0.5).astype('int32')\n",
    "text_prob = model.predict(X_test)"
   ]
  },
  {
   "cell_type": "code",
   "execution_count": 2023,
   "metadata": {},
   "outputs": [
    {
     "data": {
      "image/png": "[encoded data removed]",
      "text/plain": [
       "<Figure size 640x480 with 1 Axes>"
      ]
     },
     "metadata": {},
     "output_type": "display_data"
    }
   ],
   "source": [
    "# Dados das épocas em números inteiros\n",
    "epochs = range(len(hist_adam.history['loss']))\n",
    "\n",
    "# Plot do gráfico\n",
    "plt.suptitle('Optimizer: Adam', fontsize=10)\n",
    "plt.ylabel('Perda', fontsize=16)\n",
    "plt.xlabel('Épocas', fontsize=14)\n",
    "plt.plot(epochs, hist_adam.history['loss'], color='b', label='Treinamento')\n",
    "plt.plot(epochs, hist_adam.history['val_loss'], color='r', label='Validação')\n",
    "plt.axhline(test_acc[0], color='r', linestyle='dashed', label='Teste')\n",
    "plt.legend(loc='upper right')\n",
    "plt.xticks(range(min(epochs), max(epochs) + 1, 5))\n",
    "plt.xlim(min(epochs), max(epochs))\n",
    "plt.show()\n"
   ]
  },
  {
   "cell_type": "code",
   "execution_count": 2024,
   "metadata": {},
   "outputs": [
    {
     "data": {
      "image/png": "[encoded data removed]",
      "text/plain": [
       "<Figure size 640x480 with 1 Axes>"
      ]
     },
     "metadata": {},
     "output_type": "display_data"
    }
   ],
   "source": [
    "epochs = np.arange(len(hist_adam.history['accuracy']))\n",
    "\n",
    "# Plot do gráfico\n",
    "plt.suptitle('Optimizer: Adam', fontsize=10)\n",
    "plt.ylabel('Acurácia', fontsize=16)\n",
    "plt.xlabel('Época', fontsize=14)\n",
    "plt.xticks(epochs)  # Defina os valores inteiros no eixo X\n",
    "plt.plot(epochs, hist_adam.history['accuracy'], color='g', label='Treinamento')\n",
    "plt.plot(epochs, hist_adam.history['val_accuracy'], color='y', label='Validação')\n",
    "plt.axhline(test_acc[1], color='r', linestyle='dashed', label='Teste')\n",
    "plt.legend(loc='lower right')\n",
    "plt.xticks(range(min(epochs), max(epochs) + 1, 5))\n",
    "plt.xlim(min(epochs), max(epochs))\n",
    "# Exiba o gráfico\n",
    "plt.show()"
   ]
  },
  {
   "cell_type": "code",
   "execution_count": 2025,
   "metadata": {},
   "outputs": [
    {
     "name": "stdout",
     "output_type": "stream",
     "text": [
      "Accuracy: 0.9611111111111111\n",
      "Precision: 0.9585635359116023\n",
      "Recall: 0.9638888888888889\n",
      "F1 Score: 0.961218836565097\n"
     ]
    }
   ],
   "source": [
    "print(f'Accuracy: {metrics.accuracy_score(y_test, pred)}')\n",
    "print(f'Precision: {metrics.precision_score(y_test, pred)}')\n",
    "print(f'Recall: {metrics.recall_score(y_test, pred)}')\n",
    "print(f'F1 Score: {metrics.f1_score(y_test, pred)}')"
   ]
  },
  {
   "cell_type": "code",
   "execution_count": 2026,
   "metadata": {},
   "outputs": [
    {
     "data": {
      "text/plain": [
       "<Axes: >"
      ]
     },
     "execution_count": 2026,
     "metadata": {},
     "output_type": "execute_result"
    },
    {
     "data": {
      "image/png": "[encoded data removed]",
      "text/plain": [
       "<Figure size 640x480 with 1 Axes>"
      ]
     },
     "metadata": {},
     "output_type": "display_data"
    }
   ],
   "source": [
    "cm = confusion_matrix(y_test, pred).astype('int32')\n",
    "\n",
    "group_names = ['True Neg', 'False Pos', 'False Neg', 'True Pos']\n",
    "group_counts = ['{0:0.0f}'.format(value) for value in\n",
    "                cm.flatten()]\n",
    "group_percentages = ['{0:.2%}'.format(value) for value in\n",
    "                    cm.flatten()/np.sum(cm)]\n",
    "labels = [f'{v1}\\n{v2}\\n{v3}' for v1, v2, v3 in\n",
    "          zip(group_names,group_counts,group_percentages)]\n",
    "labels = np.asarray(labels).reshape(2,2)\n",
    "sns.heatmap(cm, annot=labels, fmt='', cmap='Blues', cbar=False)"
   ]
  },
  {
   "cell_type": "code",
   "execution_count": 2027,
   "metadata": {},
   "outputs": [
    {
     "name": "stdout",
     "output_type": "stream",
     "text": [
      "              precision    recall  f1-score   support\n",
      "\n",
      "           0       0.96      0.96      0.96       720\n",
      "           1       0.96      0.96      0.96       720\n",
      "\n",
      "    accuracy                           0.96      1440\n",
      "   macro avg       0.96      0.96      0.96      1440\n",
      "weighted avg       0.96      0.96      0.96      1440\n",
      "\n"
     ]
    }
   ],
   "source": [
    "print(classification_report(y_test, pred))"
   ]
  },
  {
   "cell_type": "markdown",
   "metadata": {},
   "source": [
    "### Metadados"
   ]
  },
  {
   "cell_type": "markdown",
   "metadata": {},
   "source": [
    "Além dos textos dos artigos, o Fake.Br também disponibiliza todos os links e metadados, contendo informações sobre os artigos, tais como autor, data de publicação e número de visualizações. Tanto os textos dos artigos quanto seus metadados foram utilizados."
   ]
  },
  {
   "cell_type": "code",
   "execution_count": 2028,
   "metadata": {},
   "outputs": [],
   "source": [
    "def read_metadata(metadata_path, label): \n",
    "    dir_metadata = glob(metadata_path + label + '-meta-information/*.txt')\n",
    "    metadata = []\n",
    "    \n",
    "    for path in tqdm(dir_metadata):\n",
    "        data = np.genfromtxt(path, delimiter = '\\n', dtype = str, encoding = 'utf-8')\n",
    "        if len(data) < 25:\n",
    "            # print(path)\n",
    "            data = np.insert(data, 0, None)\n",
    "        metadata.append(data)\n",
    "\n",
    "    metadata = np.array(metadata)\n",
    "    metadata = np.c_[metadata, [label for i in range(len(metadata))]]\n",
    "    \n",
    "    return metadata"
   ]
  },
  {
   "cell_type": "code",
   "execution_count": 2029,
   "metadata": {},
   "outputs": [
    {
     "data": {
      "application/vnd.jupyter.widget-view+json": {
       "model_id": "4bdeca79b11d4508ac609cee30d8b0c1",
       "version_major": 2,
       "version_minor": 0
      },
      "text/plain": [
       "  0%|          | 0/3600 [00:00<?, ?it/s]"
      ]
     },
     "metadata": {},
     "output_type": "display_data"
    },
    {
     "data": {
      "application/vnd.jupyter.widget-view+json": {
       "model_id": "b1450a02bb074a2d81df077324fb1091",
       "version_major": 2,
       "version_minor": 0
      },
      "text/plain": [
       "  0%|          | 0/3600 [00:00<?, ?it/s]"
      ]
     },
     "metadata": {},
     "output_type": "display_data"
    }
   ],
   "source": [
    "meta_fake = read_metadata(folder, 'fake')\n",
    "meta_true = read_metadata(folder, 'true')\n",
    "metadata = np.concatenate((meta_fake, meta_true), axis = 0)"
   ]
  },
  {
   "cell_type": "code",
   "execution_count": 2030,
   "metadata": {},
   "outputs": [],
   "source": [
    "columns = ['author', 'link', 'category', 'date', 'tokens', 'words', 'types', 'links', 'upper_case', 'verbs', 'subj_imp_verbs', \n",
    "           'nouns', 'adjectives', 'adverbs', 'modal_verbs', 'sing_first_sec_pers_pronouns', 'plural_first_pers_pronouns', \n",
    "           'pronouns', 'pausality', 'characters', 'average_sent_length', 'average_word_length', 'news_with_speeling_errors', \n",
    "           'emotiveness', 'diversity', 'label']"
   ]
  },
  {
   "cell_type": "code",
   "execution_count": 2031,
   "metadata": {},
   "outputs": [
    {
     "data": {
      "text/html": [
       "<div>\n",
       "<style scoped>\n",
       "    .dataframe tbody tr th:only-of-type {\n",
       "        vertical-align: middle;\n",
       "    }\n",
       "\n",
       "    .dataframe tbody tr th {\n",
       "        vertical-align: top;\n",
       "    }\n",
       "\n",
       "    .dataframe thead th {\n",
       "        text-align: right;\n",
       "    }\n",
       "</style>\n",
       "<table border=\"1\" class=\"dataframe\">\n",
       "  <thead>\n",
       "    <tr style=\"text-align: right;\">\n",
       "      <th></th>\n",
       "      <th>author</th>\n",
       "      <th>link</th>\n",
       "      <th>category</th>\n",
       "      <th>date</th>\n",
       "      <th>tokens</th>\n",
       "      <th>words</th>\n",
       "      <th>types</th>\n",
       "      <th>links</th>\n",
       "      <th>upper_case</th>\n",
       "      <th>verbs</th>\n",
       "      <th>...</th>\n",
       "      <th>plural_first_pers_pronouns</th>\n",
       "      <th>pronouns</th>\n",
       "      <th>pausality</th>\n",
       "      <th>characters</th>\n",
       "      <th>average_sent_length</th>\n",
       "      <th>average_word_length</th>\n",
       "      <th>news_with_speeling_errors</th>\n",
       "      <th>emotiveness</th>\n",
       "      <th>diversity</th>\n",
       "      <th>label</th>\n",
       "    </tr>\n",
       "  </thead>\n",
       "  <tbody>\n",
       "    <tr>\n",
       "      <th>0</th>\n",
       "      <td>mrk</td>\n",
       "      <td>https://ceticismopolitico.com/2017/11/30/katia...</td>\n",
       "      <td>politica</td>\n",
       "      <td>2017-11-30</td>\n",
       "      <td>211</td>\n",
       "      <td>185</td>\n",
       "      <td>120</td>\n",
       "      <td>0</td>\n",
       "      <td>6</td>\n",
       "      <td>30</td>\n",
       "      <td>...</td>\n",
       "      <td>0</td>\n",
       "      <td>26</td>\n",
       "      <td>2.0</td>\n",
       "      <td>815</td>\n",
       "      <td>14.2308</td>\n",
       "      <td>4.40541</td>\n",
       "      <td>0.0</td>\n",
       "      <td>0.263158</td>\n",
       "      <td>0.648649</td>\n",
       "      <td>fake</td>\n",
       "    </tr>\n",
       "    <tr>\n",
       "      <th>1</th>\n",
       "      <td>None</td>\n",
       "      <td>https://ceticismopolitico.com/2017/11/24/dr-ra...</td>\n",
       "      <td>politica</td>\n",
       "      <td>2017-11-24</td>\n",
       "      <td>289</td>\n",
       "      <td>254</td>\n",
       "      <td>163</td>\n",
       "      <td>0</td>\n",
       "      <td>0</td>\n",
       "      <td>56</td>\n",
       "      <td>...</td>\n",
       "      <td>0</td>\n",
       "      <td>20</td>\n",
       "      <td>2.5</td>\n",
       "      <td>1205</td>\n",
       "      <td>18.1429</td>\n",
       "      <td>4.74409</td>\n",
       "      <td>0.00787402</td>\n",
       "      <td>0.241667</td>\n",
       "      <td>0.641732</td>\n",
       "      <td>fake</td>\n",
       "    </tr>\n",
       "    <tr>\n",
       "      <th>2</th>\n",
       "      <td>None</td>\n",
       "      <td>https://afolhabrasil.com.br/politica/reinaldo-...</td>\n",
       "      <td>politica</td>\n",
       "      <td>2017-05-23</td>\n",
       "      <td>304</td>\n",
       "      <td>275</td>\n",
       "      <td>170</td>\n",
       "      <td>0</td>\n",
       "      <td>0</td>\n",
       "      <td>45</td>\n",
       "      <td>...</td>\n",
       "      <td>0</td>\n",
       "      <td>18</td>\n",
       "      <td>1.8125</td>\n",
       "      <td>1344</td>\n",
       "      <td>17.1875</td>\n",
       "      <td>4.88727</td>\n",
       "      <td>0.00363636</td>\n",
       "      <td>0.12782</td>\n",
       "      <td>0.618182</td>\n",
       "      <td>fake</td>\n",
       "    </tr>\n",
       "    <tr>\n",
       "      <th>3</th>\n",
       "      <td>None</td>\n",
       "      <td>https://www.diariodobrasil.org/relatorio-assus...</td>\n",
       "      <td>politica</td>\n",
       "      <td>24/07/2017</td>\n",
       "      <td>639</td>\n",
       "      <td>572</td>\n",
       "      <td>316</td>\n",
       "      <td>1</td>\n",
       "      <td>14</td>\n",
       "      <td>87</td>\n",
       "      <td>...</td>\n",
       "      <td>0</td>\n",
       "      <td>34</td>\n",
       "      <td>2.68</td>\n",
       "      <td>3122</td>\n",
       "      <td>22.88</td>\n",
       "      <td>5.45804</td>\n",
       "      <td>0.00174825</td>\n",
       "      <td>0.229008</td>\n",
       "      <td>0.552448</td>\n",
       "      <td>fake</td>\n",
       "    </tr>\n",
       "    <tr>\n",
       "      <th>4</th>\n",
       "      <td>None</td>\n",
       "      <td>https://www.diariodobrasil.org/radialista-amer...</td>\n",
       "      <td>politica</td>\n",
       "      <td>25/07/2017</td>\n",
       "      <td>128</td>\n",
       "      <td>111</td>\n",
       "      <td>82</td>\n",
       "      <td>0</td>\n",
       "      <td>1</td>\n",
       "      <td>21</td>\n",
       "      <td>...</td>\n",
       "      <td>0</td>\n",
       "      <td>12</td>\n",
       "      <td>0.894737</td>\n",
       "      <td>515</td>\n",
       "      <td>5.84211</td>\n",
       "      <td>4.63964</td>\n",
       "      <td>0.0</td>\n",
       "      <td>0.269231</td>\n",
       "      <td>0.738739</td>\n",
       "      <td>fake</td>\n",
       "    </tr>\n",
       "  </tbody>\n",
       "</table>\n",
       "<p>5 rows × 26 columns</p>\n",
       "</div>"
      ],
      "text/plain": [
       "  author                                               link  category  \\\n",
       "0    mrk  https://ceticismopolitico.com/2017/11/30/katia...  politica   \n",
       "1   None  https://ceticismopolitico.com/2017/11/24/dr-ra...  politica   \n",
       "2   None  https://afolhabrasil.com.br/politica/reinaldo-...  politica   \n",
       "3   None  https://www.diariodobrasil.org/relatorio-assus...  politica   \n",
       "4   None  https://www.diariodobrasil.org/radialista-amer...  politica   \n",
       "\n",
       "         date tokens words types links upper_case verbs  ...  \\\n",
       "0  2017-11-30    211   185   120     0          6    30  ...   \n",
       "1  2017-11-24    289   254   163     0          0    56  ...   \n",
       "2  2017-05-23    304   275   170     0          0    45  ...   \n",
       "3  24/07/2017    639   572   316     1         14    87  ...   \n",
       "4  25/07/2017    128   111    82     0          1    21  ...   \n",
       "\n",
       "  plural_first_pers_pronouns pronouns pausality characters  \\\n",
       "0                          0       26       2.0        815   \n",
       "1                          0       20       2.5       1205   \n",
       "2                          0       18    1.8125       1344   \n",
       "3                          0       34      2.68       3122   \n",
       "4                          0       12  0.894737        515   \n",
       "\n",
       "  average_sent_length average_word_length news_with_speeling_errors  \\\n",
       "0             14.2308             4.40541                       0.0   \n",
       "1             18.1429             4.74409                0.00787402   \n",
       "2             17.1875             4.88727                0.00363636   \n",
       "3               22.88             5.45804                0.00174825   \n",
       "4             5.84211             4.63964                       0.0   \n",
       "\n",
       "  emotiveness diversity label  \n",
       "0    0.263158  0.648649  fake  \n",
       "1    0.241667  0.641732  fake  \n",
       "2     0.12782  0.618182  fake  \n",
       "3    0.229008  0.552448  fake  \n",
       "4    0.269231  0.738739  fake  \n",
       "\n",
       "[5 rows x 26 columns]"
      ]
     },
     "execution_count": 2031,
     "metadata": {},
     "output_type": "execute_result"
    }
   ],
   "source": [
    "meta_df = pd.DataFrame(metadata, columns = columns)\n",
    "meta_df.head()"
   ]
  },
  {
   "cell_type": "code",
   "execution_count": 2032,
   "metadata": {},
   "outputs": [
    {
     "name": "stdout",
     "output_type": "stream",
     "text": [
      "<class 'pandas.core.frame.DataFrame'>\n",
      "RangeIndex: 7200 entries, 0 to 7199\n",
      "Data columns (total 26 columns):\n",
      " #   Column                        Non-Null Count  Dtype \n",
      "---  ------                        --------------  ----- \n",
      " 0   author                        3599 non-null   object\n",
      " 1   link                          7200 non-null   object\n",
      " 2   category                      7200 non-null   object\n",
      " 3   date                          7200 non-null   object\n",
      " 4   tokens                        7200 non-null   object\n",
      " 5   words                         7200 non-null   object\n",
      " 6   types                         7200 non-null   object\n",
      " 7   links                         5807 non-null   object\n",
      " 8   upper_case                    7200 non-null   object\n",
      " 9   verbs                         7200 non-null   object\n",
      " 10  subj_imp_verbs                7200 non-null   object\n",
      " 11  nouns                         7200 non-null   object\n",
      " 12  adjectives                    7200 non-null   object\n",
      " 13  adverbs                       7200 non-null   object\n",
      " 14  modal_verbs                   7200 non-null   object\n",
      " 15  sing_first_sec_pers_pronouns  7200 non-null   object\n",
      " 16  plural_first_pers_pronouns    7200 non-null   object\n",
      " 17  pronouns                      7200 non-null   object\n",
      " 18  pausality                     7200 non-null   object\n",
      " 19  characters                    7200 non-null   object\n",
      " 20  average_sent_length           7200 non-null   object\n",
      " 21  average_word_length           7200 non-null   object\n",
      " 22  news_with_speeling_errors     7200 non-null   object\n",
      " 23  emotiveness                   7200 non-null   object\n",
      " 24  diversity                     7200 non-null   object\n",
      " 25  label                         7200 non-null   object\n",
      "dtypes: object(26)\n",
      "memory usage: 1.4+ MB\n"
     ]
    }
   ],
   "source": [
    "meta_df = meta_df.replace('None', np.nan)\n",
    "meta_df.info()"
   ]
  },
  {
   "cell_type": "code",
   "execution_count": 2033,
   "metadata": {},
   "outputs": [
    {
     "name": "stdout",
     "output_type": "stream",
     "text": [
      "author\n",
      "Por G1                                                         331\n",
      "Por BBC                                                        235\n",
      "José Nêumanne                                                  173\n",
      "Por G1, Brasília                                                86\n",
      "O Estado de S.Paulo                                             71\n",
      "                                                              ... \n",
      "Débora Álvares                                                   1\n",
      "Napoleão de Almeida, Especial para o Estado                      1\n",
      "Por Isabela Leite, Viviane Sousa e Leo Arcoverde, GloboNews      1\n",
      "Breno Pires, O Estado de S.Paulo                                 1\n",
      "Por Rafael Miotto, G1, São Paulo                                 1\n",
      "Name: count, Length: 1420, dtype: int64\n"
     ]
    }
   ],
   "source": [
    "print(meta_df['author'].value_counts())"
   ]
  },
  {
   "cell_type": "code",
   "execution_count": 2034,
   "metadata": {},
   "outputs": [
    {
     "data": {
      "text/html": [
       "<div>\n",
       "<style scoped>\n",
       "    .dataframe tbody tr th:only-of-type {\n",
       "        vertical-align: middle;\n",
       "    }\n",
       "\n",
       "    .dataframe tbody tr th {\n",
       "        vertical-align: top;\n",
       "    }\n",
       "\n",
       "    .dataframe thead th {\n",
       "        text-align: right;\n",
       "    }\n",
       "</style>\n",
       "<table border=\"1\" class=\"dataframe\">\n",
       "  <thead>\n",
       "    <tr style=\"text-align: right;\">\n",
       "      <th></th>\n",
       "      <th>link</th>\n",
       "      <th>category</th>\n",
       "      <th>date</th>\n",
       "      <th>tokens</th>\n",
       "      <th>words</th>\n",
       "      <th>types</th>\n",
       "      <th>upper_case</th>\n",
       "      <th>verbs</th>\n",
       "      <th>subj_imp_verbs</th>\n",
       "      <th>nouns</th>\n",
       "      <th>...</th>\n",
       "      <th>plural_first_pers_pronouns</th>\n",
       "      <th>pronouns</th>\n",
       "      <th>pausality</th>\n",
       "      <th>characters</th>\n",
       "      <th>average_sent_length</th>\n",
       "      <th>average_word_length</th>\n",
       "      <th>news_with_speeling_errors</th>\n",
       "      <th>emotiveness</th>\n",
       "      <th>diversity</th>\n",
       "      <th>label</th>\n",
       "    </tr>\n",
       "  </thead>\n",
       "  <tbody>\n",
       "    <tr>\n",
       "      <th>0</th>\n",
       "      <td>https://ceticismopolitico.com/2017/11/30/katia...</td>\n",
       "      <td>politica</td>\n",
       "      <td>2017-11-30</td>\n",
       "      <td>211</td>\n",
       "      <td>185</td>\n",
       "      <td>120</td>\n",
       "      <td>6</td>\n",
       "      <td>30</td>\n",
       "      <td>1</td>\n",
       "      <td>46</td>\n",
       "      <td>...</td>\n",
       "      <td>0</td>\n",
       "      <td>26</td>\n",
       "      <td>2.0</td>\n",
       "      <td>815</td>\n",
       "      <td>14.2308</td>\n",
       "      <td>4.40541</td>\n",
       "      <td>0.0</td>\n",
       "      <td>0.263158</td>\n",
       "      <td>0.648649</td>\n",
       "      <td>fake</td>\n",
       "    </tr>\n",
       "    <tr>\n",
       "      <th>1</th>\n",
       "      <td>https://ceticismopolitico.com/2017/11/24/dr-ra...</td>\n",
       "      <td>politica</td>\n",
       "      <td>2017-11-24</td>\n",
       "      <td>289</td>\n",
       "      <td>254</td>\n",
       "      <td>163</td>\n",
       "      <td>0</td>\n",
       "      <td>56</td>\n",
       "      <td>8</td>\n",
       "      <td>64</td>\n",
       "      <td>...</td>\n",
       "      <td>0</td>\n",
       "      <td>20</td>\n",
       "      <td>2.5</td>\n",
       "      <td>1205</td>\n",
       "      <td>18.1429</td>\n",
       "      <td>4.74409</td>\n",
       "      <td>0.00787402</td>\n",
       "      <td>0.241667</td>\n",
       "      <td>0.641732</td>\n",
       "      <td>fake</td>\n",
       "    </tr>\n",
       "    <tr>\n",
       "      <th>2</th>\n",
       "      <td>https://afolhabrasil.com.br/politica/reinaldo-...</td>\n",
       "      <td>politica</td>\n",
       "      <td>2017-05-23</td>\n",
       "      <td>304</td>\n",
       "      <td>275</td>\n",
       "      <td>170</td>\n",
       "      <td>0</td>\n",
       "      <td>45</td>\n",
       "      <td>1</td>\n",
       "      <td>88</td>\n",
       "      <td>...</td>\n",
       "      <td>0</td>\n",
       "      <td>18</td>\n",
       "      <td>1.8125</td>\n",
       "      <td>1344</td>\n",
       "      <td>17.1875</td>\n",
       "      <td>4.88727</td>\n",
       "      <td>0.00363636</td>\n",
       "      <td>0.12782</td>\n",
       "      <td>0.618182</td>\n",
       "      <td>fake</td>\n",
       "    </tr>\n",
       "    <tr>\n",
       "      <th>3</th>\n",
       "      <td>https://www.diariodobrasil.org/relatorio-assus...</td>\n",
       "      <td>politica</td>\n",
       "      <td>24/07/2017</td>\n",
       "      <td>639</td>\n",
       "      <td>572</td>\n",
       "      <td>316</td>\n",
       "      <td>14</td>\n",
       "      <td>87</td>\n",
       "      <td>7</td>\n",
       "      <td>175</td>\n",
       "      <td>...</td>\n",
       "      <td>0</td>\n",
       "      <td>34</td>\n",
       "      <td>2.68</td>\n",
       "      <td>3122</td>\n",
       "      <td>22.88</td>\n",
       "      <td>5.45804</td>\n",
       "      <td>0.00174825</td>\n",
       "      <td>0.229008</td>\n",
       "      <td>0.552448</td>\n",
       "      <td>fake</td>\n",
       "    </tr>\n",
       "    <tr>\n",
       "      <th>4</th>\n",
       "      <td>https://www.diariodobrasil.org/radialista-amer...</td>\n",
       "      <td>politica</td>\n",
       "      <td>25/07/2017</td>\n",
       "      <td>128</td>\n",
       "      <td>111</td>\n",
       "      <td>82</td>\n",
       "      <td>1</td>\n",
       "      <td>21</td>\n",
       "      <td>0</td>\n",
       "      <td>31</td>\n",
       "      <td>...</td>\n",
       "      <td>0</td>\n",
       "      <td>12</td>\n",
       "      <td>0.894737</td>\n",
       "      <td>515</td>\n",
       "      <td>5.84211</td>\n",
       "      <td>4.63964</td>\n",
       "      <td>0.0</td>\n",
       "      <td>0.269231</td>\n",
       "      <td>0.738739</td>\n",
       "      <td>fake</td>\n",
       "    </tr>\n",
       "  </tbody>\n",
       "</table>\n",
       "<p>5 rows × 24 columns</p>\n",
       "</div>"
      ],
      "text/plain": [
       "                                                link  category        date  \\\n",
       "0  https://ceticismopolitico.com/2017/11/30/katia...  politica  2017-11-30   \n",
       "1  https://ceticismopolitico.com/2017/11/24/dr-ra...  politica  2017-11-24   \n",
       "2  https://afolhabrasil.com.br/politica/reinaldo-...  politica  2017-05-23   \n",
       "3  https://www.diariodobrasil.org/relatorio-assus...  politica  24/07/2017   \n",
       "4  https://www.diariodobrasil.org/radialista-amer...  politica  25/07/2017   \n",
       "\n",
       "  tokens words types upper_case verbs subj_imp_verbs nouns  ...  \\\n",
       "0    211   185   120          6    30              1    46  ...   \n",
       "1    289   254   163          0    56              8    64  ...   \n",
       "2    304   275   170          0    45              1    88  ...   \n",
       "3    639   572   316         14    87              7   175  ...   \n",
       "4    128   111    82          1    21              0    31  ...   \n",
       "\n",
       "  plural_first_pers_pronouns pronouns pausality characters  \\\n",
       "0                          0       26       2.0        815   \n",
       "1                          0       20       2.5       1205   \n",
       "2                          0       18    1.8125       1344   \n",
       "3                          0       34      2.68       3122   \n",
       "4                          0       12  0.894737        515   \n",
       "\n",
       "  average_sent_length average_word_length news_with_speeling_errors  \\\n",
       "0             14.2308             4.40541                       0.0   \n",
       "1             18.1429             4.74409                0.00787402   \n",
       "2             17.1875             4.88727                0.00363636   \n",
       "3               22.88             5.45804                0.00174825   \n",
       "4             5.84211             4.63964                       0.0   \n",
       "\n",
       "  emotiveness diversity label  \n",
       "0    0.263158  0.648649  fake  \n",
       "1    0.241667  0.641732  fake  \n",
       "2     0.12782  0.618182  fake  \n",
       "3    0.229008  0.552448  fake  \n",
       "4    0.269231  0.738739  fake  \n",
       "\n",
       "[5 rows x 24 columns]"
      ]
     },
     "execution_count": 2034,
     "metadata": {},
     "output_type": "execute_result"
    }
   ],
   "source": [
    "# Removendo colunas com valores nulos\n",
    "cols_to_drop = ['author', 'links']\n",
    "meta_df = meta_df.drop(columns = cols_to_drop)\n",
    "meta_df.head()"
   ]
  },
  {
   "cell_type": "markdown",
   "metadata": {},
   "source": [
    "Para seleção das colunas de metadados a serem utilizadas, aplicou-se a técnica de Backward Feature Elimination, que consiste em iterativamente remover uma coluna por vez do conjunto completo de metadados, reavaliando o modelo a cada etapa. As colunas removidas são aquelas que não causam uma piora significativa no desempenho do modelo ou não contribuem de forma relevante para a análise, resultando em um subconjunto mais conciso e informativo de metadados. A aplicação do Backward Feature Elimination não consta neste arquivo. Além disso, foram removidas colunas que possuíam muitos valores nulos, de forma a inviabilizar a sua utilização para o treinamento dos algoritmos."
   ]
  },
  {
   "cell_type": "code",
   "execution_count": 2035,
   "metadata": {},
   "outputs": [
    {
     "data": {
      "text/html": [
       "<div>\n",
       "<style scoped>\n",
       "    .dataframe tbody tr th:only-of-type {\n",
       "        vertical-align: middle;\n",
       "    }\n",
       "\n",
       "    .dataframe tbody tr th {\n",
       "        vertical-align: top;\n",
       "    }\n",
       "\n",
       "    .dataframe thead th {\n",
       "        text-align: right;\n",
       "    }\n",
       "</style>\n",
       "<table border=\"1\" class=\"dataframe\">\n",
       "  <thead>\n",
       "    <tr style=\"text-align: right;\">\n",
       "      <th></th>\n",
       "      <th>link</th>\n",
       "      <th>category</th>\n",
       "      <th>date</th>\n",
       "      <th>tokens</th>\n",
       "      <th>words</th>\n",
       "      <th>types</th>\n",
       "      <th>upper_case</th>\n",
       "      <th>verbs</th>\n",
       "      <th>subj_imp_verbs</th>\n",
       "      <th>nouns</th>\n",
       "      <th>...</th>\n",
       "      <th>plural_first_pers_pronouns</th>\n",
       "      <th>pronouns</th>\n",
       "      <th>pausality</th>\n",
       "      <th>characters</th>\n",
       "      <th>average_sent_length</th>\n",
       "      <th>average_word_length</th>\n",
       "      <th>news_with_speeling_errors</th>\n",
       "      <th>emotiveness</th>\n",
       "      <th>diversity</th>\n",
       "      <th>label</th>\n",
       "    </tr>\n",
       "  </thead>\n",
       "  <tbody>\n",
       "    <tr>\n",
       "      <th>0</th>\n",
       "      <td>https://ceticismopolitico.com/2017/11/30/katia...</td>\n",
       "      <td>politica</td>\n",
       "      <td>2017-11-30</td>\n",
       "      <td>211</td>\n",
       "      <td>1.0</td>\n",
       "      <td>0.648649</td>\n",
       "      <td>0.032432</td>\n",
       "      <td>0.162162</td>\n",
       "      <td>0.005405</td>\n",
       "      <td>0.248649</td>\n",
       "      <td>...</td>\n",
       "      <td>0.0</td>\n",
       "      <td>0.140541</td>\n",
       "      <td>2.0</td>\n",
       "      <td>815</td>\n",
       "      <td>14.2308</td>\n",
       "      <td>4.40541</td>\n",
       "      <td>0.0</td>\n",
       "      <td>0.263158</td>\n",
       "      <td>0.648649</td>\n",
       "      <td>fake</td>\n",
       "    </tr>\n",
       "    <tr>\n",
       "      <th>1</th>\n",
       "      <td>https://ceticismopolitico.com/2017/11/24/dr-ra...</td>\n",
       "      <td>politica</td>\n",
       "      <td>2017-11-24</td>\n",
       "      <td>289</td>\n",
       "      <td>1.0</td>\n",
       "      <td>0.641732</td>\n",
       "      <td>0.000000</td>\n",
       "      <td>0.220472</td>\n",
       "      <td>0.031496</td>\n",
       "      <td>0.251969</td>\n",
       "      <td>...</td>\n",
       "      <td>0.0</td>\n",
       "      <td>0.078740</td>\n",
       "      <td>2.5</td>\n",
       "      <td>1205</td>\n",
       "      <td>18.1429</td>\n",
       "      <td>4.74409</td>\n",
       "      <td>0.00787402</td>\n",
       "      <td>0.241667</td>\n",
       "      <td>0.641732</td>\n",
       "      <td>fake</td>\n",
       "    </tr>\n",
       "    <tr>\n",
       "      <th>2</th>\n",
       "      <td>https://afolhabrasil.com.br/politica/reinaldo-...</td>\n",
       "      <td>politica</td>\n",
       "      <td>2017-05-23</td>\n",
       "      <td>304</td>\n",
       "      <td>1.0</td>\n",
       "      <td>0.618182</td>\n",
       "      <td>0.000000</td>\n",
       "      <td>0.163636</td>\n",
       "      <td>0.003636</td>\n",
       "      <td>0.320000</td>\n",
       "      <td>...</td>\n",
       "      <td>0.0</td>\n",
       "      <td>0.065455</td>\n",
       "      <td>1.8125</td>\n",
       "      <td>1344</td>\n",
       "      <td>17.1875</td>\n",
       "      <td>4.88727</td>\n",
       "      <td>0.00363636</td>\n",
       "      <td>0.12782</td>\n",
       "      <td>0.618182</td>\n",
       "      <td>fake</td>\n",
       "    </tr>\n",
       "    <tr>\n",
       "      <th>3</th>\n",
       "      <td>https://www.diariodobrasil.org/relatorio-assus...</td>\n",
       "      <td>politica</td>\n",
       "      <td>24/07/2017</td>\n",
       "      <td>639</td>\n",
       "      <td>1.0</td>\n",
       "      <td>0.552448</td>\n",
       "      <td>0.024476</td>\n",
       "      <td>0.152098</td>\n",
       "      <td>0.012238</td>\n",
       "      <td>0.305944</td>\n",
       "      <td>...</td>\n",
       "      <td>0.0</td>\n",
       "      <td>0.059441</td>\n",
       "      <td>2.68</td>\n",
       "      <td>3122</td>\n",
       "      <td>22.88</td>\n",
       "      <td>5.45804</td>\n",
       "      <td>0.00174825</td>\n",
       "      <td>0.229008</td>\n",
       "      <td>0.552448</td>\n",
       "      <td>fake</td>\n",
       "    </tr>\n",
       "    <tr>\n",
       "      <th>4</th>\n",
       "      <td>https://www.diariodobrasil.org/radialista-amer...</td>\n",
       "      <td>politica</td>\n",
       "      <td>25/07/2017</td>\n",
       "      <td>128</td>\n",
       "      <td>1.0</td>\n",
       "      <td>0.738739</td>\n",
       "      <td>0.009009</td>\n",
       "      <td>0.189189</td>\n",
       "      <td>0.000000</td>\n",
       "      <td>0.279279</td>\n",
       "      <td>...</td>\n",
       "      <td>0.0</td>\n",
       "      <td>0.108108</td>\n",
       "      <td>0.894737</td>\n",
       "      <td>515</td>\n",
       "      <td>5.84211</td>\n",
       "      <td>4.63964</td>\n",
       "      <td>0.0</td>\n",
       "      <td>0.269231</td>\n",
       "      <td>0.738739</td>\n",
       "      <td>fake</td>\n",
       "    </tr>\n",
       "  </tbody>\n",
       "</table>\n",
       "<p>5 rows × 24 columns</p>\n",
       "</div>"
      ],
      "text/plain": [
       "                                                link  category        date  \\\n",
       "0  https://ceticismopolitico.com/2017/11/30/katia...  politica  2017-11-30   \n",
       "1  https://ceticismopolitico.com/2017/11/24/dr-ra...  politica  2017-11-24   \n",
       "2  https://afolhabrasil.com.br/politica/reinaldo-...  politica  2017-05-23   \n",
       "3  https://www.diariodobrasil.org/relatorio-assus...  politica  24/07/2017   \n",
       "4  https://www.diariodobrasil.org/radialista-amer...  politica  25/07/2017   \n",
       "\n",
       "  tokens  words     types  upper_case     verbs  subj_imp_verbs     nouns  \\\n",
       "0    211    1.0  0.648649    0.032432  0.162162        0.005405  0.248649   \n",
       "1    289    1.0  0.641732    0.000000  0.220472        0.031496  0.251969   \n",
       "2    304    1.0  0.618182    0.000000  0.163636        0.003636  0.320000   \n",
       "3    639    1.0  0.552448    0.024476  0.152098        0.012238  0.305944   \n",
       "4    128    1.0  0.738739    0.009009  0.189189        0.000000  0.279279   \n",
       "\n",
       "   ...  plural_first_pers_pronouns  pronouns  pausality  characters  \\\n",
       "0  ...                         0.0  0.140541        2.0         815   \n",
       "1  ...                         0.0  0.078740        2.5        1205   \n",
       "2  ...                         0.0  0.065455     1.8125        1344   \n",
       "3  ...                         0.0  0.059441       2.68        3122   \n",
       "4  ...                         0.0  0.108108   0.894737         515   \n",
       "\n",
       "   average_sent_length  average_word_length news_with_speeling_errors  \\\n",
       "0              14.2308              4.40541                       0.0   \n",
       "1              18.1429              4.74409                0.00787402   \n",
       "2              17.1875              4.88727                0.00363636   \n",
       "3                22.88              5.45804                0.00174825   \n",
       "4              5.84211              4.63964                       0.0   \n",
       "\n",
       "  emotiveness diversity label  \n",
       "0    0.263158  0.648649  fake  \n",
       "1    0.241667  0.641732  fake  \n",
       "2     0.12782  0.618182  fake  \n",
       "3    0.229008  0.552448  fake  \n",
       "4    0.269231  0.738739  fake  \n",
       "\n",
       "[5 rows x 24 columns]"
      ]
     },
     "execution_count": 2035,
     "metadata": {},
     "output_type": "execute_result"
    }
   ],
   "source": [
    "# Lista das colunas que deseja calcular a porcentagem em relação a 'words'\n",
    "colunas_para_calcular = ['types', 'verbs', 'upper_case', 'subj_imp_verbs', 'nouns', 'modal_verbs', 'sing_first_sec_pers_pronouns', 'plural_first_pers_pronouns', \n",
    "                         'pronouns', 'adjectives', 'words']\n",
    "\n",
    "# Converter as colunas para valores numéricos\n",
    "for coluna in colunas_para_calcular:\n",
    "    meta_df[coluna] = pd.to_numeric(meta_df[coluna], errors='coerce')  # Convertendo para valores numéricos\n",
    "\n",
    "# Calcular a porcentagem para cada coluna em relação a 'words'\n",
    "for coluna in colunas_para_calcular:\n",
    "    meta_df[coluna] = (meta_df[coluna] / meta_df['words'])\n",
    "\n",
    "meta_df.head()"
   ]
  },
  {
   "cell_type": "code",
   "execution_count": 2036,
   "metadata": {},
   "outputs": [
    {
     "data": {
      "text/html": [
       "<div>\n",
       "<style scoped>\n",
       "    .dataframe tbody tr th:only-of-type {\n",
       "        vertical-align: middle;\n",
       "    }\n",
       "\n",
       "    .dataframe tbody tr th {\n",
       "        vertical-align: top;\n",
       "    }\n",
       "\n",
       "    .dataframe thead th {\n",
       "        text-align: right;\n",
       "    }\n",
       "</style>\n",
       "<table border=\"1\" class=\"dataframe\">\n",
       "  <thead>\n",
       "    <tr style=\"text-align: right;\">\n",
       "      <th></th>\n",
       "      <th>types</th>\n",
       "      <th>upper_case</th>\n",
       "      <th>verbs</th>\n",
       "      <th>subj_imp_verbs</th>\n",
       "      <th>nouns</th>\n",
       "      <th>modal_verbs</th>\n",
       "      <th>pronouns</th>\n",
       "      <th>pausality</th>\n",
       "      <th>emotiveness</th>\n",
       "      <th>diversity</th>\n",
       "      <th>label</th>\n",
       "    </tr>\n",
       "  </thead>\n",
       "  <tbody>\n",
       "    <tr>\n",
       "      <th>0</th>\n",
       "      <td>0.648649</td>\n",
       "      <td>0.032432</td>\n",
       "      <td>0.162162</td>\n",
       "      <td>0.005405</td>\n",
       "      <td>0.248649</td>\n",
       "      <td>0.027027</td>\n",
       "      <td>0.140541</td>\n",
       "      <td>2.0</td>\n",
       "      <td>0.263158</td>\n",
       "      <td>0.648649</td>\n",
       "      <td>fake</td>\n",
       "    </tr>\n",
       "    <tr>\n",
       "      <th>1</th>\n",
       "      <td>0.641732</td>\n",
       "      <td>0.000000</td>\n",
       "      <td>0.220472</td>\n",
       "      <td>0.031496</td>\n",
       "      <td>0.251969</td>\n",
       "      <td>0.043307</td>\n",
       "      <td>0.078740</td>\n",
       "      <td>2.5</td>\n",
       "      <td>0.241667</td>\n",
       "      <td>0.641732</td>\n",
       "      <td>fake</td>\n",
       "    </tr>\n",
       "    <tr>\n",
       "      <th>2</th>\n",
       "      <td>0.618182</td>\n",
       "      <td>0.000000</td>\n",
       "      <td>0.163636</td>\n",
       "      <td>0.003636</td>\n",
       "      <td>0.320000</td>\n",
       "      <td>0.029091</td>\n",
       "      <td>0.065455</td>\n",
       "      <td>1.8125</td>\n",
       "      <td>0.12782</td>\n",
       "      <td>0.618182</td>\n",
       "      <td>fake</td>\n",
       "    </tr>\n",
       "    <tr>\n",
       "      <th>3</th>\n",
       "      <td>0.552448</td>\n",
       "      <td>0.024476</td>\n",
       "      <td>0.152098</td>\n",
       "      <td>0.012238</td>\n",
       "      <td>0.305944</td>\n",
       "      <td>0.024476</td>\n",
       "      <td>0.059441</td>\n",
       "      <td>2.68</td>\n",
       "      <td>0.229008</td>\n",
       "      <td>0.552448</td>\n",
       "      <td>fake</td>\n",
       "    </tr>\n",
       "    <tr>\n",
       "      <th>4</th>\n",
       "      <td>0.738739</td>\n",
       "      <td>0.009009</td>\n",
       "      <td>0.189189</td>\n",
       "      <td>0.000000</td>\n",
       "      <td>0.279279</td>\n",
       "      <td>0.009009</td>\n",
       "      <td>0.108108</td>\n",
       "      <td>0.894737</td>\n",
       "      <td>0.269231</td>\n",
       "      <td>0.738739</td>\n",
       "      <td>fake</td>\n",
       "    </tr>\n",
       "  </tbody>\n",
       "</table>\n",
       "</div>"
      ],
      "text/plain": [
       "      types  upper_case     verbs  subj_imp_verbs     nouns  modal_verbs  \\\n",
       "0  0.648649    0.032432  0.162162        0.005405  0.248649     0.027027   \n",
       "1  0.641732    0.000000  0.220472        0.031496  0.251969     0.043307   \n",
       "2  0.618182    0.000000  0.163636        0.003636  0.320000     0.029091   \n",
       "3  0.552448    0.024476  0.152098        0.012238  0.305944     0.024476   \n",
       "4  0.738739    0.009009  0.189189        0.000000  0.279279     0.009009   \n",
       "\n",
       "   pronouns pausality emotiveness diversity label  \n",
       "0  0.140541       2.0    0.263158  0.648649  fake  \n",
       "1  0.078740       2.5    0.241667  0.641732  fake  \n",
       "2  0.065455    1.8125     0.12782  0.618182  fake  \n",
       "3  0.059441      2.68    0.229008  0.552448  fake  \n",
       "4  0.108108  0.894737    0.269231  0.738739  fake  "
      ]
     },
     "execution_count": 2036,
     "metadata": {},
     "output_type": "execute_result"
    }
   ],
   "source": [
    "cols_to_drop = ['link', 'date', 'category', 'adverbs', 'plural_first_pers_pronouns',\n",
    "                'average_word_length', 'sing_first_sec_pers_pronouns', 'news_with_speeling_errors',\n",
    "                'average_sent_length', 'adjectives', 'tokens', 'words', 'characters']\n",
    "meta_df = meta_df.drop(columns = cols_to_drop)\n",
    "meta_df.head()"
   ]
  },
  {
   "cell_type": "code",
   "execution_count": 2037,
   "metadata": {},
   "outputs": [],
   "source": [
    "meta_X, meta_y = meta_df.iloc[:, :-1], meta_df['label']\n",
    "meta_X_train, meta_X_test, meta_y_train, meta_y_test = train_test_split(meta_X, meta_y, \n",
    "                                                                        random_state = 42, \n",
    "                                                                        test_size = 0.2, \n",
    "                                                                        stratify = meta_y)"
   ]
  },
  {
   "cell_type": "markdown",
   "metadata": {},
   "source": [
    "Muitos dos valores contidos nas colunas (até mesmo os números) estão em formado textual (strings). Desta forma, é necessário que estes valores sejam convertidos do formado textual para o formato numérico. Os rótulos também precisam ser convertidos para formatos apropriados."
   ]
  },
  {
   "cell_type": "code",
   "execution_count": 2038,
   "metadata": {},
   "outputs": [],
   "source": [
    "from sklearn.impute import SimpleImputer\n",
    "\n",
    "def imputer(column_train, column_test):\n",
    "    # Criar o imputador\n",
    "    simple_imputer = SimpleImputer(missing_values=np.nan, strategy='constant', fill_value=0.0)\n",
    "    \n",
    "    # Ajustar e transformar os dados de treino\n",
    "    transf_train = simple_imputer.fit_transform(column_train.values.reshape(-1, 1))\n",
    "    \n",
    "    # Transformar os dados de teste usando os parâmetros aprendidos nos dados de treino\n",
    "    transf_test = simple_imputer.transform(column_test.values.reshape(-1, 1))\n",
    "\n",
    "    return transf_train.flatten(), transf_test.flatten()\n",
    "\n",
    "for column in meta_X_train.columns:\n",
    "    meta_X_train[column], meta_X_test[column] = imputer(meta_X_train[column], meta_X_test[column])"
   ]
  },
  {
   "cell_type": "code",
   "execution_count": 2039,
   "metadata": {},
   "outputs": [],
   "source": [
    "lb = LabelBinarizer()\n",
    "meta_y_train = lb.fit_transform(meta_y_train)\n",
    "meta_y_test = lb.transform(meta_y_test)\n",
    "meta_y_train, meta_y_test = meta_y_train.reshape(-1), meta_y_test.reshape(-1)"
   ]
  },
  {
   "cell_type": "markdown",
   "metadata": {},
   "source": [
    "\n",
    "O MinMaxScaler é uma técnica de pré-processamento muito comum e útil em aprendizagem de máquina, especialmente quando se lida com algoritmos sensíveis à escala dos dados. Sua principal aplicação é redimensionar (escalar) os dados de forma que eles fiquem dentro de um intervalo específico, geralmente entre 0 e 1."
   ]
  },
  {
   "cell_type": "code",
   "execution_count": 2040,
   "metadata": {},
   "outputs": [],
   "source": [
    "mm = MinMaxScaler()\n",
    "\n",
    "meta_X_train = mm.fit_transform(meta_X_train)\n",
    "meta_X_test = mm.transform(meta_X_test)"
   ]
  },
  {
   "cell_type": "markdown",
   "metadata": {},
   "source": [
    "### Support Vector Machine (SVM)"
   ]
  },
  {
   "cell_type": "code",
   "execution_count": 2041,
   "metadata": {},
   "outputs": [
    {
     "data": {
      "text/plain": [
       "0.9479166666666666"
      ]
     },
     "execution_count": 2041,
     "metadata": {},
     "output_type": "execute_result"
    }
   ],
   "source": [
    "svm_clf = SVC(kernel = 'poly', probability = True)\n",
    "svm_clf.fit(meta_X_train, meta_y_train)\n",
    "svm_clf.score(meta_X_test, meta_y_test)"
   ]
  },
  {
   "cell_type": "code",
   "execution_count": 2042,
   "metadata": {},
   "outputs": [],
   "source": [
    "#Predict the response for test dataset\n",
    "svm_prob = svm_clf.predict_proba(meta_X_test)\n",
    "svm_pred = svm_clf.predict(meta_X_test)"
   ]
  },
  {
   "cell_type": "code",
   "execution_count": 2043,
   "metadata": {},
   "outputs": [
    {
     "name": "stdout",
     "output_type": "stream",
     "text": [
      "Accuracy: 0.9479166666666666\n",
      "Precision: 0.9448275862068966\n",
      "Recall: 0.9513888888888888\n",
      "F1 Score: 0.9480968858131488\n"
     ]
    }
   ],
   "source": [
    "print(f'Accuracy: {metrics.accuracy_score(meta_y_test, svm_pred)}')\n",
    "\n",
    "# Model Precision: what percentage of positive tuples are labeled as such?\n",
    "print(f'Precision: {metrics.precision_score(meta_y_test, svm_pred)}')\n",
    "\n",
    "# Model Recall: what percentage of positive tuples are labelled as such?\n",
    "print(f'Recall: {metrics.recall_score(meta_y_test, svm_pred)}')\n",
    "\n",
    "print(f'F1 Score: {metrics.f1_score(meta_y_test, svm_pred)}')"
   ]
  },
  {
   "cell_type": "code",
   "execution_count": 2044,
   "metadata": {},
   "outputs": [
    {
     "data": {
      "text/plain": [
       "<Axes: >"
      ]
     },
     "execution_count": 2044,
     "metadata": {},
     "output_type": "execute_result"
    },
    {
     "data": {
      "image/png": "[encoded data removed]",
      "text/plain": [
       "<Figure size 640x480 with 1 Axes>"
      ]
     },
     "metadata": {},
     "output_type": "display_data"
    }
   ],
   "source": [
    "cm = confusion_matrix(meta_y_test, svm_pred)\n",
    "\n",
    "group_names = ['True Neg','False Pos','False Neg','True Pos']\n",
    "group_counts = ['{0:0.0f}'.format(value) for value in\n",
    "                cm.flatten()]\n",
    "group_percentages = ['{0:.2%}'.format(value) for value in\n",
    "                    cm.flatten()/np.sum(cm)]\n",
    "labels = [f'{v1}\\n{v2}\\n{v3}' for v1, v2, v3 in\n",
    "          zip(group_names,group_counts,group_percentages)]\n",
    "labels = np.asarray(labels).reshape(2,2)\n",
    "sns.heatmap(cm, annot=labels, fmt=\"\", cmap='Blues', cbar=False)"
   ]
  },
  {
   "cell_type": "code",
   "execution_count": 2045,
   "metadata": {},
   "outputs": [
    {
     "name": "stdout",
     "output_type": "stream",
     "text": [
      "              precision    recall  f1-score   support\n",
      "\n",
      "           0       0.95      0.94      0.95       720\n",
      "           1       0.94      0.95      0.95       720\n",
      "\n",
      "    accuracy                           0.95      1440\n",
      "   macro avg       0.95      0.95      0.95      1440\n",
      "weighted avg       0.95      0.95      0.95      1440\n",
      "\n"
     ]
    }
   ],
   "source": [
    "print(classification_report(meta_y_test, svm_clf.predict(meta_X_test)))"
   ]
  },
  {
   "cell_type": "markdown",
   "metadata": {},
   "source": [
    "### Multilayer Perceptron (MLP)"
   ]
  },
  {
   "cell_type": "code",
   "execution_count": 2046,
   "metadata": {},
   "outputs": [
    {
     "data": {
      "text/plain": [
       "0.9465277777777777"
      ]
     },
     "execution_count": 2046,
     "metadata": {},
     "output_type": "execute_result"
    }
   ],
   "source": [
    "#Create a mlp Classifier\n",
    "mlp_clf = MLPClassifier(random_state=1, max_iter = 300)\n",
    "\n",
    "#Train the model using the training sets\n",
    "mlp_clf.fit(meta_X_train, meta_y_train)\n",
    "\n",
    "mlp_clf.score(meta_X_test, meta_y_test)"
   ]
  },
  {
   "cell_type": "code",
   "execution_count": 2047,
   "metadata": {},
   "outputs": [],
   "source": [
    "#Predict the response for test dataset\n",
    "mlp_prob = mlp_clf.predict_proba(meta_X_test)\n",
    "mlp_pred = mlp_clf.predict(meta_X_test)"
   ]
  },
  {
   "cell_type": "code",
   "execution_count": 2048,
   "metadata": {},
   "outputs": [
    {
     "name": "stdout",
     "output_type": "stream",
     "text": [
      "Accuracy: 0.9465277777777777\n",
      "Precision: 0.9446749654218534\n",
      "Recall: 0.9486111111111111\n",
      "F1 Score: 0.9466389466389467\n"
     ]
    }
   ],
   "source": [
    "print(f'Accuracy: {metrics.accuracy_score(meta_y_test, mlp_pred)}')\n",
    "\n",
    "# Model Precision: what percentage of positive tuples are labeled as such?\n",
    "print(f'Precision: {metrics.precision_score(meta_y_test, mlp_pred)}')\n",
    "\n",
    "# Model Recall: what percentage of positive tuples are labelled as such?\n",
    "print(f'Recall: {metrics.recall_score(meta_y_test, mlp_pred)}')\n",
    "\n",
    "print(f'F1 Score: {metrics.f1_score(meta_y_test, mlp_pred)}')"
   ]
  },
  {
   "cell_type": "code",
   "execution_count": 2049,
   "metadata": {},
   "outputs": [
    {
     "data": {
      "text/plain": [
       "<Axes: >"
      ]
     },
     "execution_count": 2049,
     "metadata": {},
     "output_type": "execute_result"
    },
    {
     "data": {
      "image/png": "[encoded data removed]",
      "text/plain": [
       "<Figure size 640x480 with 1 Axes>"
      ]
     },
     "metadata": {},
     "output_type": "display_data"
    }
   ],
   "source": [
    "cm = confusion_matrix(meta_y_test, mlp_clf.predict(meta_X_test))\n",
    "\n",
    "group_names = ['True Neg','False Pos','False Neg','True Pos']\n",
    "group_counts = ['{0:0.0f}'.format(value) for value in\n",
    "                cm.flatten()]\n",
    "group_percentages = [\"{0:.2%}\".format(value) for value in\n",
    "                    cm.flatten()/np.sum(cm)]\n",
    "labels = [f'{v1}\\n{v2}\\n{v3}' for v1, v2, v3 in\n",
    "          zip(group_names,group_counts,group_percentages)]\n",
    "labels = np.asarray(labels).reshape(2,2)\n",
    "sns.heatmap(cm, annot=labels, fmt=\"\", cmap='Blues', cbar=False)"
   ]
  },
  {
   "cell_type": "markdown",
   "metadata": {},
   "source": [
    "### Gaussian Naine Bayes (GBN)"
   ]
  },
  {
   "cell_type": "code",
   "execution_count": 2050,
   "metadata": {},
   "outputs": [
    {
     "data": {
      "text/plain": [
       "0.9354166666666667"
      ]
     },
     "execution_count": 2050,
     "metadata": {},
     "output_type": "execute_result"
    }
   ],
   "source": [
    "#Create a gnb Classifier\n",
    "gnb_clf = GaussianNB()\n",
    "\n",
    "#Train the model using the training sets\n",
    "gnb_clf.fit(meta_X_train, meta_y_train)\n",
    "gnb_clf.score(meta_X_test, meta_y_test)"
   ]
  },
  {
   "cell_type": "code",
   "execution_count": 2051,
   "metadata": {},
   "outputs": [],
   "source": [
    "#Predict the response for test dataset\n",
    "gnb_prob = gnb_clf.predict_proba(meta_X_test)\n",
    "gnb_pred = gnb_clf.predict(meta_X_test)"
   ]
  },
  {
   "cell_type": "code",
   "execution_count": 2052,
   "metadata": {},
   "outputs": [
    {
     "name": "stdout",
     "output_type": "stream",
     "text": [
      "Accuracy: 0.9354166666666667\n",
      "Precision: 0.9253731343283582\n",
      "Recall: 0.9472222222222222\n",
      "F1 Score: 0.9361702127659575\n"
     ]
    }
   ],
   "source": [
    "print(f'Accuracy: {metrics.accuracy_score(meta_y_test, gnb_pred)}')\n",
    "\n",
    "# Model Precision: what percentage of positive tuples are labeled as such?\n",
    "print(f'Precision: {metrics.precision_score(meta_y_test, gnb_pred)}')\n",
    "\n",
    "# Model Recall: what percentage of positive tuples are labelled as such?\n",
    "print(f'Recall: {metrics.recall_score(meta_y_test, gnb_pred)}')\n",
    "\n",
    "print(f'F1 Score: {metrics.f1_score(meta_y_test, gnb_pred)}')"
   ]
  },
  {
   "cell_type": "code",
   "execution_count": 2053,
   "metadata": {},
   "outputs": [
    {
     "data": {
      "text/plain": [
       "<Axes: >"
      ]
     },
     "execution_count": 2053,
     "metadata": {},
     "output_type": "execute_result"
    },
    {
     "data": {
      "image/png": "[encoded data removed]",
      "text/plain": [
       "<Figure size 640x480 with 1 Axes>"
      ]
     },
     "metadata": {},
     "output_type": "display_data"
    }
   ],
   "source": [
    "cm = confusion_matrix(meta_y_test, gnb_clf.predict(meta_X_test))\n",
    "\n",
    "group_names = ['True Neg','False Pos','False Neg','True Pos']\n",
    "group_counts = [\"{0:0.0f}\".format(value) for value in\n",
    "                cm.flatten()]\n",
    "group_percentages = [\"{0:.2%}\".format(value) for value in\n",
    "                    cm.flatten()/np.sum(cm)]\n",
    "labels = [f\"{v1}\\n{v2}\\n{v3}\" for v1, v2, v3 in\n",
    "          zip(group_names,group_counts,group_percentages)]\n",
    "labels = np.asarray(labels).reshape(2,2)\n",
    "sns.heatmap(cm, annot=labels, fmt=\"\", cmap='Blues', cbar=False)"
   ]
  },
  {
   "cell_type": "markdown",
   "metadata": {},
   "source": [
    "### Ensemble"
   ]
  },
  {
   "cell_type": "code",
   "execution_count": 2054,
   "metadata": {},
   "outputs": [],
   "source": [
    "def ensemble_predict(pred1, pred2, w1, w2):\n",
    "    \"\"\"\n",
    "    Combina duas previsões ponderadas.\n",
    "\n",
    "    Parameters:\n",
    "    - pred1 (numpy array): Previsões do modelo 1.\n",
    "    - pred2 (numpy array): Previsões do modelo 2.\n",
    "    - w1 (float): Peso para pred1.\n",
    "    - w2 (float): Peso para pred2.\n",
    "\n",
    "    Returns:\n",
    "    - numpy array: Previsões combinadas.\n",
    "    \"\"\"\n",
    "    return (pred1 * w1 + pred2 * w2) / (w1 + w2)\n",
    "\n",
    "def loss_function(y_true, y_pred):\n",
    "    \"\"\"\n",
    "    Calcula a função de perda logística.\n",
    "\n",
    "    Parameters:\n",
    "    - y_true (numpy array): Rótulos verdadeiros.\n",
    "    - y_pred (numpy array): Previsões do modelo.\n",
    "\n",
    "    Returns:\n",
    "    - float: Valor da função de perda.\n",
    "    \"\"\"\n",
    "    epsilon = 1e-15\n",
    "    y_pred = np.clip(y_pred, epsilon, 1 - epsilon)\n",
    "    return -np.mean(y_true * np.log(y_pred) + (1 - y_true) * np.log(1 - y_pred))"
   ]
  },
  {
   "cell_type": "markdown",
   "metadata": {},
   "source": [
    "Após a conclusão do CNN e a seleção do melhor algoritmo (no caso, é o SVM) para a análise dos metadados, é realizada uma combinação dos resultados obtidos por ambos. Para isto, uma rede neural ensemble é empregada tendo como entrada as saídas desses dois modelos. A rede ensemble, composta por camadas Dense, Batch Normalization e Dropout, é projetada para otimizar a fusão das previsões provenientes dos modelos CNN e SVM. Essa estratégia permite uma interpretação conjunta mais rica, aproveitando as características específicas dos modelos aplicados a diferentes aspectos dos dados."
   ]
  },
  {
   "cell_type": "code",
   "execution_count": 2055,
   "metadata": {},
   "outputs": [],
   "source": [
    "pred_1 = text_prob[:, 0]\n",
    "pred_2 = svm_prob[:, 1]"
   ]
  },
  {
   "cell_type": "code",
   "execution_count": 2056,
   "metadata": {},
   "outputs": [],
   "source": [
    "# Crie o modelo ensemble com camadas de deep learning\n",
    "ensemble_model = tf.keras.Sequential([\n",
    "    tf.keras.layers.Input(shape=(2,)),  # Número de modelos base\n",
    "    tf.keras.layers.Dense(64, activation='relu'),\n",
    "    tf.keras.layers.BatchNormalization(),  # Normalização em lote\n",
    "    tf.keras.layers.Dropout(0.5),  # Dropout para regularização\n",
    "    tf.keras.layers.Dense(32, activation='relu'),\n",
    "    tf.keras.layers.Dense(16, activation='relu'),\n",
    "    tf.keras.layers.Dense(1, activation='sigmoid')\n",
    "])\n",
    "\n",
    "ensemble_model.compile(optimizer=Adam(learning_rate=0.001),\n",
    "                      loss='binary_crossentropy',\n",
    "                      metrics=['accuracy'])\n"
   ]
  },
  {
   "cell_type": "code",
   "execution_count": 2057,
   "metadata": {},
   "outputs": [
    {
     "name": "stdout",
     "output_type": "stream",
     "text": [
      "Epoch 1/10\n",
      "45/45 [==============================] - 1s 6ms/step - loss: 0.3250 - accuracy: 0.8931\n",
      "Epoch 2/10\n",
      "45/45 [==============================] - 0s 4ms/step - loss: 0.1320 - accuracy: 0.9604\n",
      "Epoch 3/10\n",
      "45/45 [==============================] - 0s 3ms/step - loss: 0.1205 - accuracy: 0.9625\n",
      "Epoch 4/10\n",
      "45/45 [==============================] - 0s 4ms/step - loss: 0.1184 - accuracy: 0.9646\n",
      "Epoch 5/10\n",
      "45/45 [==============================] - 0s 4ms/step - loss: 0.1152 - accuracy: 0.9639\n",
      "Epoch 6/10\n",
      "45/45 [==============================] - 0s 3ms/step - loss: 0.1223 - accuracy: 0.9646\n",
      "Epoch 7/10\n",
      "45/45 [==============================] - 0s 3ms/step - loss: 0.1197 - accuracy: 0.9625\n",
      "Epoch 8/10\n",
      "45/45 [==============================] - 0s 3ms/step - loss: 0.1191 - accuracy: 0.9639\n",
      "Epoch 9/10\n",
      "45/45 [==============================] - 0s 4ms/step - loss: 0.1233 - accuracy: 0.9646\n",
      "Epoch 10/10\n",
      "45/45 [==============================] - 0s 3ms/step - loss: 0.1264 - accuracy: 0.9660\n"
     ]
    },
    {
     "data": {
      "text/plain": [
       "<keras.callbacks.History at 0x17ba75d3d90>"
      ]
     },
     "execution_count": 2057,
     "metadata": {},
     "output_type": "execute_result"
    }
   ],
   "source": [
    "# Treine a rede neural para aprender os pesos\n",
    "ensemble_model.fit(np.column_stack((pred_1, pred_2)), y_test, epochs=10, batch_size=32)"
   ]
  },
  {
   "cell_type": "code",
   "execution_count": 2058,
   "metadata": {},
   "outputs": [
    {
     "name": "stdout",
     "output_type": "stream",
     "text": [
      "45/45 [==============================] - 0s 1ms/step\n"
     ]
    }
   ],
   "source": [
    "# Faça previsões usando a rede neural para combinar os modelos\n",
    "ensemble_prob = ensemble_model.predict(np.column_stack((pred_1, pred_2)))"
   ]
  },
  {
   "cell_type": "code",
   "execution_count": 2059,
   "metadata": {},
   "outputs": [],
   "source": [
    "# usa os pesos otimizados para combinar as saídas dos modelos e gerar a saída final do ensemble\n",
    "# ensemble_prob = ensemble_predict(pred_1, pred_2, w[0], w[1])\n",
    "ensemble_pred = [1 if pred > 0.5 else 0 for pred in ensemble_prob]"
   ]
  },
  {
   "cell_type": "code",
   "execution_count": 2060,
   "metadata": {},
   "outputs": [
    {
     "data": {
      "text/plain": [
       "0.9659722222222222"
      ]
     },
     "execution_count": 2060,
     "metadata": {},
     "output_type": "execute_result"
    }
   ],
   "source": [
    "accuracy_score(y_test, ensemble_pred)"
   ]
  },
  {
   "cell_type": "code",
   "execution_count": 2061,
   "metadata": {},
   "outputs": [
    {
     "data": {
      "image/png": "[encoded data removed]",
      "text/plain": [
       "<Figure size 640x480 with 1 Axes>"
      ]
     },
     "metadata": {},
     "output_type": "display_data"
    }
   ],
   "source": [
    "true_indices = np.nonzero(y_test == 1)[0]\n",
    "false_indices = np.nonzero(y_test == 0)[0]\n",
    "true_probabilities = ensemble_prob[true_indices]\n",
    "false_probabilities = ensemble_prob[false_indices]\n",
    "\n",
    "# Plote as previsões para os valores onde y_test é igual a 1 em azul e onde é igual a 0 em vermelho\n",
    "plt.scatter(true_indices, true_probabilities, color='blue', label='Notícias verdadeiras')\n",
    "plt.scatter(false_indices, false_probabilities, color='red', label='Fake news')\n",
    "plt.axhline(y=0.5, color='gray', linestyle='--', label='Limite 0.5')\n",
    "\n",
    "# Configurações de rótulos e título\n",
    "plt.xlabel('Amostra')\n",
    "plt.ylabel('Probabilidade')\n",
    "plt.title('Previsões do Ensemble')\n",
    "plt.legend(loc='upper left')\n",
    "plt.show()\n"
   ]
  },
  {
   "cell_type": "code",
   "execution_count": 2062,
   "metadata": {},
   "outputs": [
    {
     "data": {
      "image/png": "[encoded data removed]",
      "text/plain": [
       "<Figure size 640x480 with 1 Axes>"
      ]
     },
     "metadata": {},
     "output_type": "display_data"
    }
   ],
   "source": [
    "cm = confusion_matrix(y_test, ensemble_pred)\n",
    "group_names = ['True Neg', 'False Pos', 'False Neg', 'True Pos']\n",
    "group_counts = ['{0:0.0f}'.format(value) for value in cm.flatten()]\n",
    "group_percentages = ['{0:.2%}'.format(value) for value in cm.flatten()/np.sum(cm)]\n",
    "labels = [f'{v1}\\n{v2}\\n{v3}' for v1, v2, v3 in zip(group_names,group_counts,group_percentages)]\n",
    "labels = np.asarray(labels).reshape(2,2)\n",
    "\n",
    "sns.set(font_scale=0.9)\n",
    "sns.heatmap(cm, annot=labels, fmt='', cmap='Blues', cbar=False)\n",
    "\n",
    "plt.xlabel('Predicted label')\n",
    "plt.ylabel('True label')\n",
    "plt.show()"
   ]
  },
  {
   "cell_type": "code",
   "execution_count": 2063,
   "metadata": {},
   "outputs": [
    {
     "data": {
      "application/vnd.jupyter.widget-view+json": {
       "model_id": "676fdb4b7da54ce09de46e159ac52496",
       "version_major": 2,
       "version_minor": 0
      },
      "text/plain": [
       "  0%|          | 0/1 [00:00<?, ?it/s]"
      ]
     },
     "metadata": {},
     "output_type": "display_data"
    },
    {
     "data": {
      "text/plain": [
       "['furacão irma deixa rastro destruição fotos furacão deixou mortos caribe eua siga tempo real']"
      ]
     },
     "execution_count": 2063,
     "metadata": {},
     "output_type": "execute_result"
    }
   ],
   "source": [
    "# Menor notícia verdadeira\n",
    "pos = palavras_true.argmin()\n",
    "t1 = [true_news[pos][0]]\n",
    "t1 = preprocessing(t1)\n",
    "t1"
   ]
  },
  {
   "cell_type": "code",
   "execution_count": 2064,
   "metadata": {},
   "outputs": [
    {
     "data": {
      "application/vnd.jupyter.widget-view+json": {
       "model_id": "f86add8249524523bd51363a2034194e",
       "version_major": 2,
       "version_minor": 0
      },
      "text/plain": [
       "  0%|          | 0/1 [00:00<?, ?it/s]"
      ]
     },
     "metadata": {},
     "output_type": "display_data"
    },
    {
     "data": {
      "text/plain": [
       "['próximo presidente centro-direita diz cientista político christian lohbauer vencedor eleições deverá geraldo alckmin joão doria outro nome perfil apareça daqui frente confira entrevista maiores autoridades brasileiras assunto ciência política senhor analisa atual quadro político país sistema gente viveu últimos anos modelo político partidário eleitoral constituição faliu presidencialismo coalizão esgotou fragmentação congresso absurda ficou comprovado então presidente dilma maioria absoluta parlamentares base governo conseguia aprovar projetos impeachment denúncias lava jato tudo gente momento depuração fim ciclo político sabe virá tempo oportunidade histórica brasil dar salto institucional caminho cheio riscos nesse ponto otimista embora caminho vá longo acredito haverá mudança melhor últimas pesquisas têm mostrado polarização deputado jair bolsonaro lula prognóstico próximas eleições dois cenários lula lula cenário lula acredito alcançará segundo turno perderá eleições cenário lula fragmentado parecido haverá muitos candidatos muita força tanto primeiro caso quanto segundo acredito próximo presidente vai ocupar espaço centro-direita ninguém esquerda lula marina ciro alguém psol bolsonaro outro lado pode alckmin doria alguma figura perfil apareça gente ainda sabe leva acreditar candidato centro-direita vencerá eleições analisar eleições presidenciais desde verá afunilamento constante diferença dois polos pt psdb diferença alckmin lula quase milhões votos equivalente eleitores naquela época apesar mensalão lula auge eleições dilma contra aécio diferença milhões votos população cansando governo comandou país anos então desenhado quadro eleitor brasileiro conservador religioso cristão quer estabilidade revolução significa retorno emprego paz campo todas coisas gente desacostumou ver noticiário atrapalham vida cidadão vier posicionamento segurança estabilidade vai levar eleição senhor pensa ciclo esquerda acabou primeiro determinar esquerda últimos anos misturou-se esquerda populismo figura lula governo dilma nada sequência piorada daquele modelo populista estatizante hoje esquerda desgastada porque encontra maneira propor soluções recursos disponíveis país cresceu durante quase década arrecadação deu salto significativo termos reais viabilizando recursos estado gastar saúde educação segurança infraestrutura assim aumentou déficit estado entregou serviços piores entregava dez anos antes aí todo mundo percebeu alguma coisa errada aconteceu estudante recebeu bolsa fies tomou calote estado parar estudar ir trabalhar funcionário público hoje fila cesta básica rio janeiro tomou calote estado pessoas deram conta precisa gênio perceber propostas esquerda partem princípio estado bom administrador interesses sociedade deram certo acho esquerda situação difícil falar questões carta presidente pt apoia regime maduro venezuela realmente fica difícil conseguir acreditar seriedade conversa desde redemocratização direita ficou meio hibernação país últimos anos renascimento direita apenas ala autoritária democrática liberal explica fenômeno fracasso esquerda sucessão fracassos brasil vem colecionando rigor vêm desde regime militar modelo desenvolvimento regime militar tomando governo geisel referência diferente igual propunha governo dilma crença estado indutor desenvolvimento capitalismo brasileiro sempre capitalismo estado nunca capitalismo genuíno resultado então conhecemos brasil país grande deveria rico alfabetizado educado estado tão incompetente intervém tanto vida pessoas empresas corporações tão fortes defender interesses mesquinhos observa fracasso geral sobrou sobrou democracia liberal nunca tentamos acho chegou hora início agosto ex-presidente lula tornou réu sexta vez pt têm sustentado discurso perseguição política vitimização apesar condenação investigação vários políticos outros partidos lava jato inclusive próprio presidente temer assim senhor diz lula poderá ter votos eleição presidencial brasileiros vão ignorar coisas todas hora votar digo porque milhões eleitores sempre uns abstenção uns milhões votos quais milhões nordeste onde deve conquistar quase equivalente uns total nacional região norte deve acontecer menos mesma coisa norte nordeste ainda marcados época coisas melhoraram agora pioraram novo então associação direta compreensão abrangente fenômeno pensam vida melhorou lula lula piorou candidato voto lula simples assim então lula deverá receber milhões votos independentemente televisão processo condenação indiciamento pega sudeste sul brasil área produção agrícola região centro-oeste inseridas mundo real produção pt chance alguns anos atrás aí mudança milhões votos lado lá agora virão lado cá acho vai acontecer dúvidas quanto coisa toda lava jato realmente atinge massa eleitores idos anos grande pelé disse certa vez criticado brasileiro sabia votar ainda dá falar hoje porque possível imaginar apesar acusado tantas falcatruas lula ainda tantos votos previsão confirmar acho aprendizagem longa duro custo democracia pouco aprendizagem pessoas têm educação refinada processo demora pessoa sofrer carne ficar desempregada perder bolsa estudo começar entender importância voto assim pessoas alfabetizado últimos anos aumentado grau cidadania cidadania verdade deveres compreensão importância política aí coisas mudado rápido frase pelé ainda verdade hoje aprendizado sido carne cérebro reforma política andamento congresso poderá incluir distritão fundo eleitoral outras cláusulas polêmicas opinião reforma política poderá representar país retardamento deve feito virou chavão reforma política mãe reformas iniciada nesse período turbulento forma fatiada diz aí parte reforma relacionada financiamento campanhas eleitorais começou feita eduardo cunha ver forma equivocada acredito deveria financiamento empresarial ainda limite determinado faturamento cada empresa proibir financiamento empresarial grande erro manter financiamento pessoa física deu resultado gente imaginava crescimento dois tipos representação criminosa jeito coisa difícil imaginar políticos hoje controlam congresso votem medidas contrárias próprios interesses continuidade sistema aprovar fim fundo partidário depende votos próprios políticos beneficiam grande dilema democracia aperfeiçoá-la depende votação beneficiando atual modelo saída promove golpe ruptura institucional ninguém quer junta grupo pessoas acham têm mudar coisas pretendem conquistar espaço dentro congresso novo propõe fazer trabalho tão difícil único possível construir movimento consolidou duras penas partido eleger representantes fazer mudança hoje grande demanda renovação política quais chances reais acontecer regras eleitorais média renovação congresso últimos anos então renovação sido grande chance renovar ainda ano vem grande assim renovação significa coisas vão melhorar porque decisão participar política racional pessoas bem querem trabalhar vida pública exercer mandato interesse público dificilmente vão tomar decisão concorrer atuais regras jogo haverá renovação provavelmente maior sido sei qualidade vai melhorar porque problema sério comentei aqui disponibilidade recursos criminoso igrejas têm força incrível ampliar influência eleger gente relação candidatos igrejas criminosos ainda muitos vícios pouco espaço quer fazer política verdade modelo tradicional partidos maiores modelo atual apelo trazer gente nova política difícil então imaginar possa surgir figura brasil macron frança centro-direita fácil pensar macron brasileiro possa eleito presidente acontecer grande mudança congresso collor exemplo eleito prn congresso todo contra seis meses iniciar chamou fase soft deixou enfrentar congresso porque congresso governa então macron eleito governar congresso distante ideias assim aconteceu collor talvez aconteça macron brasileiro eleito brasil historicamente ideias liberais jamais hegemônicas tornar ideias populares mostrar cidadão permitirão vida melhore ideias estatizantes lula pt defendem trabalho semana processo começou ainda levará tempo chegar ponto ideal desenvolvimento econômico permitirá pessoas possam entender modelo liberdade melhor igualdade gerar desenvolvimento econômico significa retomar emprego gerar riqueza mostrar pessoas acesso maior parte recursos geram trabalham melhor vai vez pagar imposto puderem pagar seguro saúde privado vez esperar estado dê escola boa filhos puderem usar recursos pagam impostos escolher onde vão estudar melhor quanto acesso riqueza criada si indivíduo cuidar vida melhor gaste tudo festa problema fez hoje dizer estado vai cuidar entregar precisa nunca concretizar prometeu constituição apresentada social cobertura universal saúde aconteceu milhões brasileiros milhões têm plano saúde privado milhões usam sus precisa dizer mim únicas áreas estado atuar regular saúde educação segurança resto sociedade constrói sozinha estado cuidar petróleo dizer horas criança dormir estabelecer maneira viver pessoas regular evitar oligopólios monopólios excessos mercado']"
      ]
     },
     "execution_count": 2064,
     "metadata": {},
     "output_type": "execute_result"
    }
   ],
   "source": [
    "# Maior notícia falsa\n",
    "pos = palavras_fake.argmax()\n",
    "t2 = [fake_news[pos][0]]\n",
    "t2 = preprocessing(t2)\n",
    "t2"
   ]
  },
  {
   "cell_type": "code",
   "execution_count": 2065,
   "metadata": {},
   "outputs": [
    {
     "name": "stdout",
     "output_type": "stream",
     "text": [
      "1/1 [==============================] - 0s 66ms/step\n"
     ]
    },
    {
     "data": {
      "text/plain": [
       "array([[0],\n",
       "       [0]])"
      ]
     },
     "execution_count": 2065,
     "metadata": {},
     "output_type": "execute_result"
    }
   ],
   "source": [
    "teste = t1 + t2\n",
    "ect = tokenizer.texts_to_sequences(teste)\n",
    "vocab_size = len(tokenizer.word_index) + 1\n",
    "Xt = tf.keras.preprocessing.sequence.pad_sequences(ect, maxlen = max_length, padding = 'post')\n",
    "Xt.shape\n",
    "\n",
    "(model.predict(Xt) > 0.5).astype('int32')"
   ]
  }
 ],
 "metadata": {
  "kernelspec": {
   "display_name": "tf23",
   "language": "python",
   "name": "python3"
  },
  "language_info": {
   "codemirror_mode": {
    "name": "ipython",
    "version": 3
   },
   "file_extension": ".py",
   "mimetype": "text/x-python",
   "name": "python",
   "nbconvert_exporter": "python",
   "pygments_lexer": "ipython3",
   "version": "3.10.13"
  },
  "orig_nbformat": 4
 },
 "nbformat": 4,
 "nbformat_minor": 2
}
